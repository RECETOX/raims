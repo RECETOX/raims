{
 "cells": [
  {
   "cell_type": "markdown",
   "metadata": {
    "collapsed": true,
    "pycharm": {
     "name": "#%% md\n"
    }
   },
   "source": [
    "# LSTM Model"
   ]
  },
  {
   "cell_type": "markdown",
   "source": [],
   "metadata": {
    "collapsed": false,
    "pycharm": {
     "name": "#%% md\n"
    }
   }
  },
  {
   "cell_type": "code",
   "execution_count": 1,
   "outputs": [],
   "source": [
    "import torch\n",
    "from pytorch_lightning import Trainer\n",
    "from pytorch_lightning.callbacks import EarlyStopping\n",
    "from pytorch_lightning.loggers import WandbLogger\n",
    "from raims.data import GenerativeDataModule, load_word2vec\n",
    "from raims.nn import PureLSTM, EmbeddingLSTM\n",
    "\n",
    "logger = WandbLogger(project='raims', offline=True)"
   ],
   "metadata": {
    "collapsed": false,
    "pycharm": {
     "name": "#%%\n"
    }
   }
  },
  {
   "cell_type": "code",
   "execution_count": 4,
   "outputs": [
    {
     "ename": "AttributeError",
     "evalue": "The index2entity attribute has been replaced by index_to_key since Gensim 4.0.0.\nSee https://github.com/RaRe-Technologies/gensim/wiki/Migrating-from-Gensim-3.x-to-4",
     "output_type": "error",
     "traceback": [
      "\u001B[0;31m---------------------------------------------------------------------------\u001B[0m",
      "\u001B[0;31mAttributeError\u001B[0m                            Traceback (most recent call last)",
      "Input \u001B[0;32mIn [4]\u001B[0m, in \u001B[0;36m<module>\u001B[0;34m\u001B[0m\n\u001B[0;32m----> 1\u001B[0m vocabulary, embeddings \u001B[38;5;241m=\u001B[39m \u001B[43mload_word2vec\u001B[49m\u001B[43m(\u001B[49m\u001B[38;5;124;43m'\u001B[39;49m\u001B[38;5;124;43mmodel/mona-random-w2v.model\u001B[39;49m\u001B[38;5;124;43m'\u001B[39;49m\u001B[43m)\u001B[49m\n\u001B[1;32m      2\u001B[0m datamodule \u001B[38;5;241m=\u001B[39m GenerativeDataModule(path\u001B[38;5;241m=\u001B[39m\u001B[38;5;124m'\u001B[39m\u001B[38;5;124mdata/split/mona-random\u001B[39m\u001B[38;5;124m'\u001B[39m, vocabulary\u001B[38;5;241m=\u001B[39mvocabulary)\n",
      "File \u001B[0;32m/workspace/raims/data/util.py:37\u001B[0m, in \u001B[0;36mload_word2vec\u001B[0;34m(path)\u001B[0m\n\u001B[1;32m     35\u001B[0m \u001B[38;5;28;01mdef\u001B[39;00m \u001B[38;5;21mload_word2vec\u001B[39m(path: \u001B[38;5;28mstr\u001B[39m) \u001B[38;5;241m-\u001B[39m\u001B[38;5;241m>\u001B[39m Tuple[Dict[\u001B[38;5;28mstr\u001B[39m, \u001B[38;5;28mint\u001B[39m], Tensor]:\n\u001B[1;32m     36\u001B[0m     model \u001B[38;5;241m=\u001B[39m Word2Vec\u001B[38;5;241m.\u001B[39mload(path)\n\u001B[0;32m---> 37\u001B[0m     vocab \u001B[38;5;241m=\u001B[39m {e: i \u001B[38;5;28;01mfor\u001B[39;00m i, e \u001B[38;5;129;01min\u001B[39;00m \u001B[38;5;28menumerate\u001B[39m(\u001B[43mmodel\u001B[49m\u001B[38;5;241;43m.\u001B[39;49m\u001B[43mwv\u001B[49m\u001B[38;5;241;43m.\u001B[39;49m\u001B[43mindex2entity\u001B[49m)}\n\u001B[1;32m     38\u001B[0m     \u001B[38;5;28;01mreturn\u001B[39;00m vocab, torch\u001B[38;5;241m.\u001B[39mfrom_numpy(model\u001B[38;5;241m.\u001B[39mwv\u001B[38;5;241m.\u001B[39mvectors)\n",
      "File \u001B[0;32m/opt/conda/lib/python3.8/site-packages/gensim/models/keyedvectors.py:639\u001B[0m, in \u001B[0;36mKeyedVectors.index2entity\u001B[0;34m(self)\u001B[0m\n\u001B[1;32m    637\u001B[0m \u001B[38;5;129m@property\u001B[39m\n\u001B[1;32m    638\u001B[0m \u001B[38;5;28;01mdef\u001B[39;00m \u001B[38;5;21mindex2entity\u001B[39m(\u001B[38;5;28mself\u001B[39m):\n\u001B[0;32m--> 639\u001B[0m     \u001B[38;5;28;01mraise\u001B[39;00m \u001B[38;5;167;01mAttributeError\u001B[39;00m(\n\u001B[1;32m    640\u001B[0m         \u001B[38;5;124m\"\u001B[39m\u001B[38;5;124mThe index2entity attribute has been replaced by index_to_key since Gensim 4.0.0.\u001B[39m\u001B[38;5;130;01m\\n\u001B[39;00m\u001B[38;5;124m\"\u001B[39m\n\u001B[1;32m    641\u001B[0m         \u001B[38;5;124m\"\u001B[39m\u001B[38;5;124mSee https://github.com/RaRe-Technologies/gensim/wiki/Migrating-from-Gensim-3.x-to-4\u001B[39m\u001B[38;5;124m\"\u001B[39m\n\u001B[1;32m    642\u001B[0m     )\n",
      "\u001B[0;31mAttributeError\u001B[0m: The index2entity attribute has been replaced by index_to_key since Gensim 4.0.0.\nSee https://github.com/RaRe-Technologies/gensim/wiki/Migrating-from-Gensim-3.x-to-4"
     ]
    }
   ],
   "source": [
    "vocabulary, embeddings = load_word2vec('model/mona-random-w2v.model')\n",
    "datamodule = GenerativeDataModule(path='data/split/mona-random', vocabulary=vocabulary)"
   ],
   "metadata": {
    "collapsed": false,
    "pycharm": {
     "name": "#%%\n"
    }
   }
  },
  {
   "cell_type": "code",
   "execution_count": 3,
   "outputs": [
    {
     "ename": "NameError",
     "evalue": "name 'vocabulary' is not defined",
     "output_type": "error",
     "traceback": [
      "\u001B[0;31m---------------------------------------------------------------------------\u001B[0m",
      "\u001B[0;31mNameError\u001B[0m                                 Traceback (most recent call last)",
      "Input \u001B[0;32mIn [3]\u001B[0m, in \u001B[0;36m<module>\u001B[0;34m\u001B[0m\n\u001B[0;32m----> 1\u001B[0m pure_lstm_1 \u001B[38;5;241m=\u001B[39m PureLSTM(num_classes\u001B[38;5;241m=\u001B[39m\u001B[38;5;28mlen\u001B[39m(\u001B[43mvocabulary\u001B[49m), hidden_size\u001B[38;5;241m=\u001B[39m\u001B[38;5;241m200\u001B[39m, include_intensity\u001B[38;5;241m=\u001B[39m\u001B[38;5;28;01mFalse\u001B[39;00m, learning_rate\u001B[38;5;241m=\u001B[39m\u001B[38;5;241m1e-3\u001B[39m)\n\u001B[1;32m      2\u001B[0m pure_lstm_2 \u001B[38;5;241m=\u001B[39m PureLSTM(num_classes\u001B[38;5;241m=\u001B[39m\u001B[38;5;28mlen\u001B[39m(vocabulary), hidden_size\u001B[38;5;241m=\u001B[39m\u001B[38;5;241m200\u001B[39m, include_intensity\u001B[38;5;241m=\u001B[39m\u001B[38;5;28;01mFalse\u001B[39;00m, learning_rate\u001B[38;5;241m=\u001B[39m\u001B[38;5;241m1e-3\u001B[39m)\n\u001B[1;32m      4\u001B[0m embedding_lstm_1 \u001B[38;5;241m=\u001B[39m EmbeddingLSTM(embeddings\u001B[38;5;241m=\u001B[39membeddings, hidden_size\u001B[38;5;241m=\u001B[39m\u001B[38;5;241m200\u001B[39m, freeze_embeddings\u001B[38;5;241m=\u001B[39m\u001B[38;5;28;01mTrue\u001B[39;00m, include_intensity\u001B[38;5;241m=\u001B[39m\u001B[38;5;28;01mFalse\u001B[39;00m, learning_rate\u001B[38;5;241m=\u001B[39m\u001B[38;5;241m1e-3\u001B[39m)\n",
      "\u001B[0;31mNameError\u001B[0m: name 'vocabulary' is not defined"
     ]
    }
   ],
   "source": [
    "pure_lstm_1 = PureLSTM(num_classes=len(vocabulary), hidden_size=200, include_intensity=False, learning_rate=1e-3)\n",
    "pure_lstm_2 = PureLSTM(num_classes=len(vocabulary), hidden_size=200, include_intensity=False, learning_rate=1e-3)\n",
    "\n",
    "embedding_lstm_1 = EmbeddingLSTM(embeddings=embeddings, hidden_size=200, freeze_embeddings=True, include_intensity=False, learning_rate=1e-3)\n",
    "embedding_lstm_2 = EmbeddingLSTM(embeddings=embeddings, hidden_size=200, freeze_embeddings=True, include_intensity=True, learning_rate=1e-3)\n",
    "embedding_lstm_3 = EmbeddingLSTM(embeddings=embeddings, hidden_size=200, freeze_embeddings=False, include_intensity=False, learning_rate=1e-3)\n",
    "embedding_lstm_4 = EmbeddingLSTM(embeddings=embeddings, hidden_size=200, freeze_embeddings=False, include_intensity=True, learning_rate=1e-3)\n",
    "\n",
    "embedding_lstm_random = EmbeddingLSTM(embeddings=torch.zeros_like(embeddings), hidden_size=200, freeze_embeddings=False, include_intensity=False, learning_rate=1e-3)"
   ],
   "metadata": {
    "collapsed": false,
    "pycharm": {
     "name": "#%%\n"
    }
   }
  },
  {
   "cell_type": "code",
   "execution_count": null,
   "outputs": [],
   "source": [
    "trainer =  Trainer(callbacks=[EarlyStopping(monitor='val_loss', patience=3)], logger=logger, max_epochs=500)"
   ],
   "metadata": {
    "collapsed": false,
    "pycharm": {
     "name": "#%%\n"
    }
   }
  },
  {
   "cell_type": "code",
   "execution_count": null,
   "outputs": [],
   "source": [
    "trainer.fit(model=pure_lstm_1, datamodule=datamodule)"
   ],
   "metadata": {
    "collapsed": false,
    "pycharm": {
     "name": "#%%\n"
    }
   }
  },
  {
   "cell_type": "code",
   "execution_count": null,
   "outputs": [],
   "source": [
    "trainer.fit(model=pure_lstm_2, datamodule=datamodule)"
   ],
   "metadata": {
    "collapsed": false,
    "pycharm": {
     "name": "#%%\n"
    }
   }
  },
  {
   "cell_type": "code",
   "execution_count": null,
   "outputs": [],
   "source": [
    "trainer.fit(model=embedding_lstm_1, datamodule=datamodule)"
   ],
   "metadata": {
    "collapsed": false,
    "pycharm": {
     "name": "#%%\n"
    }
   }
  },
  {
   "cell_type": "code",
   "execution_count": null,
   "outputs": [],
   "source": [
    "trainer.fit(model=embedding_lstm_2, datamodule=datamodule)"
   ],
   "metadata": {
    "collapsed": false,
    "pycharm": {
     "name": "#%%\n"
    }
   }
  },
  {
   "cell_type": "code",
   "execution_count": null,
   "outputs": [],
   "source": [
    "trainer.fit(model=embedding_lstm_3, datamodule=datamodule)"
   ],
   "metadata": {
    "collapsed": false,
    "pycharm": {
     "name": "#%%\n"
    }
   }
  },
  {
   "cell_type": "code",
   "execution_count": null,
   "outputs": [],
   "source": [
    "trainer.fit(model=embedding_lstm_4, datamodule=datamodule)"
   ],
   "metadata": {
    "collapsed": false,
    "pycharm": {
     "name": "#%%\n"
    }
   }
  },
  {
   "cell_type": "code",
   "execution_count": null,
   "outputs": [],
   "source": [
    "trainer.fit(model=embedding_lstm_random, datamodule=datamodule)"
   ],
   "metadata": {
    "collapsed": false,
    "pycharm": {
     "name": "#%%\n"
    }
   }
  }
 ],
 "metadata": {
  "kernelspec": {
   "display_name": "Python 3",
   "language": "python",
   "name": "python3"
  },
  "language_info": {
   "codemirror_mode": {
    "name": "ipython",
    "version": 2
   },
   "file_extension": ".py",
   "mimetype": "text/x-python",
   "name": "python",
   "nbconvert_exporter": "python",
   "pygments_lexer": "ipython2",
   "version": "2.7.6"
  }
 },
 "nbformat": 4,
 "nbformat_minor": 0
}