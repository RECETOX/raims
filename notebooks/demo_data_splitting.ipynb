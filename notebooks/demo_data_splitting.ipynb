{
 "cells": [
  {
   "cell_type": "code",
   "execution_count": null,
   "metadata": {
    "collapsed": false,
    "jupyter": {
     "outputs_hidden": false
    },
    "pycharm": {
     "name": "#%%\n"
    }
   },
   "outputs": [],
   "source": [
    "from matchms.importing import load_from_msp\n",
    "from raims.split import inchikey_mapping, random_split, split_a, split_b, save_partitions_as_msp"
   ]
  },
  {
   "cell_type": "markdown",
   "metadata": {
    "pycharm": {
     "name": "#%% md\n"
    }
   },
   "source": [
    "### Download and load MoNA dataset\n",
    "\n",
    "MoNA is a freely available GC-MS dataset distributed under GNU GPL license.\n"
   ]
  },
  {
   "cell_type": "code",
   "execution_count": null,
   "metadata": {
    "collapsed": false,
    "jupyter": {
     "outputs_hidden": false
    },
    "pycharm": {
     "name": "#%%\n"
    }
   },
   "outputs": [],
   "source": [
    "!mkdir --parents data/src\n",
    "!wget -O data/src/MoNA-export-GC-MS_Spectra.zip https://mona.fiehnlab.ucdavis.edu/rest/downloads/retrieve/fac60e0e-6322-4596-8b03-c1dd211e6454\n",
    "!unzip data/src/MoNA-export-GC-MS_Spectra.zip -d data/src"
   ]
  },
  {
   "cell_type": "code",
   "execution_count": null,
   "metadata": {},
   "outputs": [],
   "source": [
    "import matchms.logging_functions as mmsl\n",
    "mmsl.add_logging_to_file(\"matchms.log\",remove_stream_handlers=True)"
   ]
  },
  {
   "cell_type": "markdown",
   "metadata": {
    "pycharm": {
     "name": "#%% md\n"
    }
   },
   "source": [
    "**Note:** We are not sure that the provided link will still work for you. If you encounter any problems, please contact us."
   ]
  },
  {
   "cell_type": "code",
   "execution_count": null,
   "metadata": {
    "pycharm": {
     "name": "#%%\n"
    }
   },
   "outputs": [],
   "source": [
    "mona = list(load_from_msp('data/src/MoNA-export-GC-MS_Spectra.msp'))"
   ]
  },
  {
   "cell_type": "markdown",
   "metadata": {
    "pycharm": {
     "name": "#%% md\n"
    }
   },
   "source": [
    "#### MoNA random split\n",
    "\n",
    "Perform a pure random split of the dataset into partitions of a specified fractional size."
   ]
  },
  {
   "cell_type": "code",
   "execution_count": null,
   "metadata": {
    "collapsed": false,
    "jupyter": {
     "outputs_hidden": false
    },
    "pycharm": {
     "name": "#%%\n"
    }
   },
   "outputs": [],
   "source": [
    "mona_randon_split = random_split(dataset=mona, partitions=[.8, .1, .1])\n",
    "save_partitions_as_msp(folder='data/split/mona-random', filenames=['train.msp', 'test.msp', 'val.msp'], partitions=mona_randon_split)"
   ]
  },
  {
   "cell_type": "markdown",
   "metadata": {
    "pycharm": {
     "name": "#%% md\n"
    }
   },
   "source": [
    "#### MoNA InChIKey mapping\n",
    "\n",
    "Divide the provided list of spectra into a dictionary of buckets with the same InChIKey."
   ]
  },
  {
   "cell_type": "code",
   "execution_count": null,
   "metadata": {
    "collapsed": false,
    "jupyter": {
     "outputs_hidden": false
    },
    "pycharm": {
     "name": "#%%\n"
    }
   },
   "outputs": [],
   "source": [
    "mona_mapping = inchikey_mapping(spectra=mona, key='inchikey')"
   ]
  },
  {
   "cell_type": "markdown",
   "metadata": {
    "pycharm": {
     "name": "#%% md\n"
    }
   },
   "source": [
    "#### MoNA split A\n",
    "\n",
    "Each first occurrence of each unique key, e.g. InChIKey, is put into the training partition. The remaining keys are randomly split into testing and validation partitions so as these two partitions does not share a single key."
   ]
  },
  {
   "cell_type": "code",
   "execution_count": null,
   "metadata": {
    "collapsed": false,
    "jupyter": {
     "outputs_hidden": false
    },
    "pycharm": {
     "name": "#%%\n"
    }
   },
   "outputs": [],
   "source": [
    "mona_a_split = split_a(mapping=mona_mapping)\n",
    "save_partitions_as_msp(folder='data/split/mona-a', filenames=['train.msp', 'test.msp', 'val.msp'], partitions=mona_a_split)"
   ]
  },
  {
   "cell_type": "markdown",
   "metadata": {
    "pycharm": {
     "name": "#%% md\n"
    }
   },
   "source": [
    "#### MoNA split B\n",
    "\n",
    "Take a random bucket (a collection of the same keys) and put it into a random non-full partition."
   ]
  },
  {
   "cell_type": "code",
   "execution_count": null,
   "metadata": {
    "collapsed": false,
    "jupyter": {
     "outputs_hidden": false
    },
    "pycharm": {
     "name": "#%%\n"
    }
   },
   "outputs": [],
   "source": [
    "mona_b_split = split_b(mapping=mona_mapping, partitions=[.8, .1, .1])\n",
    "save_partitions_as_msp(folder='data/split/mona-b', filenames=['train.msp', 'test.msp', 'val.msp'], partitions=mona_b_split)"
   ]
  },
  {
   "cell_type": "code",
   "execution_count": null,
   "metadata": {},
   "outputs": [],
   "source": []
  }
 ],
 "metadata": {
  "kernelspec": {
   "display_name": "Python 3 (ipykernel)",
   "language": "python",
   "name": "python3"
  },
  "language_info": {
   "codemirror_mode": {
    "name": "ipython",
    "version": 3
   },
   "file_extension": ".py",
   "mimetype": "text/x-python",
   "name": "python",
   "nbconvert_exporter": "python",
   "pygments_lexer": "ipython3",
   "version": "3.8.12"
  }
 },
 "nbformat": 4,
 "nbformat_minor": 4
}
