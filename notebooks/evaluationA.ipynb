{
 "cells": [
  {
   "cell_type": "markdown",
   "metadata": {},
   "source": [
    "# Joint evaluation in scenario A\n",
    "Evaluation of the best variants of each models in scenario A; evaluation on incorrectly matched compounds"
   ]
  },
  {
   "cell_type": "code",
   "execution_count": 1,
   "metadata": {},
   "outputs": [],
   "source": [
    "base = \"data\"\n",
    "dataset = \"nist\"\n",
    "probs = [0, .05, .1, .15, .2, .25, .3, .35, .4, .45, .5]\n",
    "\n",
    "%load_ext autoreload\n",
    "%autoreload 2"
   ]
  },
  {
   "cell_type": "markdown",
   "metadata": {},
   "source": [
    "## Evaluation on the incorrectly matched\n"
   ]
  },
  {
   "cell_type": "markdown",
   "metadata": {},
   "source": [
    "### Low"
   ]
  },
  {
   "cell_type": "code",
   "execution_count": 2,
   "metadata": {},
   "outputs": [],
   "source": [
    "kind = \"in_database\"\n",
    "P_FOLDER = f\"predictions/{kind}\""
   ]
  },
  {
   "cell_type": "code",
   "execution_count": 3,
   "metadata": {},
   "outputs": [],
   "source": [
    "import numpy as np\n",
    "\n",
    "from msai.evaluation import model_selection, model_selection_random\n",
    "from msai.plots import plot_scores"
   ]
  },
  {
   "cell_type": "code",
   "execution_count": 4,
   "metadata": {},
   "outputs": [],
   "source": [
    "tested = \"spec_test\"\n",
    "\n",
    "p_name = \"cosine\"\n",
    "\n",
    "n_pred_ikeys_per_m = np.load(f\"matches/{kind}/{dataset}/{tested}/{p_name}/n_pred_ikeys_per_p.npy\")\n",
    "n_pred_ikeys_per_k = np.load(f\"matches/{kind}/{dataset}/{tested}/{p_name}/n_pred_ikeys_per_k.npy\", allow_pickle=True)\n",
    "y_ikeys = np.load(f\"matches/{kind}/{dataset}/{tested}/{p_name}/y_ikeys.npy\")"
   ]
  },
  {
   "cell_type": "code",
   "execution_count": 5,
   "metadata": {},
   "outputs": [],
   "source": [
    "p_name = \"cosine_weighted\"\n",
    "\n",
    "n_pred_ikeys_per_m_w = np.load(f\"matches/{kind}/{dataset}/{tested}/{p_name}/n_pred_ikeys_per_p.npy\")\n",
    "n_pred_ikeys_per_k_w = np.load(f\"matches/{kind}/{dataset}/{tested}/{p_name}/n_pred_ikeys_per_k.npy\", allow_pickle=True)\n",
    "y_ikeys_w = np.load(f\"matches/{kind}/{dataset}/{tested}/{p_name}/y_ikeys.npy\")"
   ]
  },
  {
   "cell_type": "code",
   "execution_count": 6,
   "metadata": {},
   "outputs": [],
   "source": [
    "def get_mask_incorrect(pred_ikeys, y_ikeys, top=10):\n",
    "    mask = np.zeros(shape=pred_ikeys.shape[:2]) == 0\n",
    "    for j in range(len(pred_ikeys)):\n",
    "        for i in range(len(y_ikeys)):\n",
    "            if pred_ikeys[j][i] is None or y_ikeys[i] in pred_ikeys[j][i][:10]:\n",
    "                mask[j, i] = False\n",
    "    return mask"
   ]
  },
  {
   "cell_type": "code",
   "execution_count": 7,
   "metadata": {},
   "outputs": [],
   "source": [
    "mask_cosine_k  = get_mask_incorrect(n_pred_ikeys_per_k, y_ikeys, 10)\n",
    "mask_wcosine_k  = get_mask_incorrect(n_pred_ikeys_per_k_w, y_ikeys_w, 10)\n",
    "mask_k = mask_cosine_k & mask_wcosine_k"
   ]
  },
  {
   "cell_type": "code",
   "execution_count": 113,
   "metadata": {},
   "outputs": [
    {
     "data": {
      "text/plain": [
       "True"
      ]
     },
     "execution_count": 113,
     "metadata": {},
     "output_type": "execute_result"
    }
   ],
   "source": [
    "(y_ikeys == y_ikeys_w).all()"
   ]
  },
  {
   "cell_type": "code",
   "execution_count": 9,
   "metadata": {},
   "outputs": [
    {
     "data": {
      "text/plain": [
       "('DUEPRVBVGDRKAG',\n",
       " ['WKEWHSLZDDZONF',\n",
       "  'RKRKJKYUXVQANK',\n",
       "  'PFSZRZUGJMNSKF',\n",
       "  'WJGPNUBJBMCRQH',\n",
       "  'PCYIIHKPPDXSIE',\n",
       "  'ITFUXZJPFSNXBV',\n",
       "  'DUEPRVBVGDRKAG',\n",
       "  'GXGIVDFIPKHTHH',\n",
       "  'YBPABXGFEMOUTB',\n",
       "  'VLWZKYOCVFKBBT'],\n",
       " ['PFSZRZUGJMNSKF',\n",
       "  'RKRKJKYUXVQANK',\n",
       "  'WKEWHSLZDDZONF',\n",
       "  'BMHMKWXYXFBWMI',\n",
       "  'YXVSURZEXVMUAM',\n",
       "  'HINCKJDFBMTHPK',\n",
       "  'IKEHOXWJQXIQAG',\n",
       "  'SDJUKATYFRSDAS',\n",
       "  'PCYIIHKPPDXSIE',\n",
       "  'SNKLPZOJLXDZCW'])"
      ]
     },
     "execution_count": 9,
     "metadata": {},
     "output_type": "execute_result"
    }
   ],
   "source": [
    "y_ikeys[13766], n_pred_ikeys_per_k[:,13766][3][:10], n_pred_ikeys_per_k_w[:,13766][3][:10]"
   ]
  },
  {
   "cell_type": "code",
   "execution_count": 10,
   "metadata": {},
   "outputs": [
    {
     "name": "stdout",
     "output_type": "stream",
     "text": [
      "15246\n"
     ]
    }
   ],
   "source": [
    "print(mask_k[1].sum())"
   ]
  },
  {
   "cell_type": "code",
   "execution_count": 11,
   "metadata": {},
   "outputs": [
    {
     "name": "stdout",
     "output_type": "stream",
     "text": [
      "specknn_3\n",
      "Possible k up to 30, predict up to 20 peaks\n",
      "Selected up to k=30, l=4, j=6\n",
      "Selected up to k=30, l=None, to_rel_inten=0.4\n",
      "[16714 14468  9046  5960  4346  3361  2719  2272  1982  1727  1545  1407\n",
      "  1299  1201  1112  1034   972   921   873   833   803   772   751   723\n",
      "   697   673   647   627   602   586]\n"
     ]
    }
   ],
   "source": [
    "_, scores_knn_cut3 = model_selection(P_FOLDER, \"spec_test\", kw=\"specknn_3\", up_to_k=30, \\\n",
    "                                      l=4, j=6, to_rel_inten=.4, l_rel=None, mask=mask_k)"
   ]
  },
  {
   "cell_type": "code",
   "execution_count": 12,
   "metadata": {},
   "outputs": [
    {
     "name": "stdout",
     "output_type": "stream",
     "text": [
      "specknn_1\n",
      "Possible k up to 30, predict up to 20 peaks\n",
      "Selected up to k=30, l=4, j=6\n",
      "Selected up to k=30, l=None, to_rel_inten=0.4\n",
      "[16714 14468  9046  5960  4346  3361  2719  2272  1982  1727  1545  1407\n",
      "  1299  1201  1112  1034   972   921   873   833   803   772   751   723\n",
      "   697   673   647   627   602   586]\n"
     ]
    }
   ],
   "source": [
    "_, scores_knn_cut = model_selection(P_FOLDER, \"spec_test\", kw=\"specknn_1\", up_to_k=30, \\\n",
    "                                      l=4, j=6, to_rel_inten=.4, l_rel=None, mask=mask_k)"
   ]
  },
  {
   "cell_type": "code",
   "execution_count": 13,
   "metadata": {},
   "outputs": [
    {
     "name": "stdout",
     "output_type": "stream",
     "text": [
      "gpt2_ns_auto\n",
      "Possible k up to 30, predict up to 20 peaks\n",
      "Selected up to k=30, l=4, j=6\n",
      "Selected up to k=30, l=None, to_rel_inten=0.4\n",
      "[16714 14468  9046  5960  4346  3361  2719  2272  1982  1727  1545  1407\n",
      "  1299  1201  1112  1034   972   921   873   833   803   772   751   723\n",
      "   697   673   647   627   602   586]\n"
     ]
    }
   ],
   "source": [
    "_, scores_gpt_cut = model_selection(P_FOLDER, \"hugg_test\", kw=\"gpt\", up_to_k=30, \\\n",
    "                                      l=4, j=6, to_rel_inten=.4, l_rel=None, mask=mask_k)"
   ]
  },
  {
   "cell_type": "code",
   "execution_count": 14,
   "metadata": {},
   "outputs": [],
   "source": [
    "scores_test_cut = {**scores_knn_cut, **scores_gpt_cut, **scores_knn_cut3}"
   ]
  },
  {
   "cell_type": "code",
   "execution_count": 55,
   "metadata": {},
   "outputs": [
    {
     "data": {
      "image/png": "[encoded data removed]",
      "text/plain": [
       "<Figure size 504x288 with 1 Axes>"
      ]
     },
     "metadata": {
      "needs_background": "light"
     },
     "output_type": "display_data"
    }
   ],
   "source": [
    "\n",
    "hue_f = lambda x: [\"1\",\"ns\",\"3\"].index(x.split(\"_\")[1])\n",
    "orderer_f = hue_f\n",
    "plot_scores(scores_test_cut, metrics=\"mpi\",\n",
    "            orderer_f=orderer_f,hue_f=None,\n",
    "            title= \"Scenario B\" if kind==\"de_novo\" else \"Scenario A - incorrectly matched\",\n",
    "            xlabel= \"k\", ylabel=\"meanPrecision\", y_max=1,\n",
    "            save_to_path=f\"figures/{kind}/evaluation/incorrect_topk.pdf\")"
   ]
  },
  {
   "cell_type": "code",
   "execution_count": null,
   "metadata": {},
   "outputs": [],
   "source": []
  },
  {
   "cell_type": "markdown",
   "metadata": {},
   "source": [
    "### Random"
   ]
  },
  {
   "cell_type": "code",
   "execution_count": null,
   "metadata": {},
   "outputs": [],
   "source": []
  },
  {
   "cell_type": "code",
   "execution_count": 57,
   "metadata": {},
   "outputs": [],
   "source": [
    "mask_wcosine_p  = get_mask_incorrect(n_pred_ikeys_per_m_w, y_ikeys, 10)"
   ]
  },
  {
   "cell_type": "code",
   "execution_count": 82,
   "metadata": {},
   "outputs": [
    {
     "name": "stdout",
     "output_type": "stream",
     "text": [
      "specknnR_1_.5\n"
     ]
    },
    {
     "name": "stderr",
     "output_type": "stream",
     "text": [
      "/auto/brno6/home/xstary1/raims/metrics.py:232: RuntimeWarning: Mean of empty slice\n",
      "  \"mp\": np.nanmean(recs_some, axis=1),\n",
      "/auto/brno6/home/xstary1/raims/metrics.py:234: RuntimeWarning: Mean of empty slice\n",
      "  \"mf1\": np.nanmean(f1_some, axis=1),\n",
      "/auto/brno6/home/xstary1/raims/metrics.py:235: RuntimeWarning: Mean of empty slice\n",
      "  \"mps\": np.nanmean(precs_m, axis=1)\n"
     ]
    },
    {
     "name": "stdout",
     "output_type": "stream",
     "text": [
      "specknnR_3_.5\n"
     ]
    }
   ],
   "source": [
    "_, scores_random_knn_cut = model_selection_random(P_FOLDER, \"spec_test\", \\\n",
    "                                                  kw=\"specknnR_\",\\\n",
    "                                                  mask= mask_wcosine_p)\n"
   ]
  },
  {
   "cell_type": "code",
   "execution_count": 83,
   "metadata": {},
   "outputs": [
    {
     "name": "stdout",
     "output_type": "stream",
     "text": [
      "linear_.3\n"
     ]
    }
   ],
   "source": [
    "_, scores_random_lr_cut = model_selection_random(P_FOLDER, \"fixed_test\", \\\n",
    "                                                  kw=\"linear\" ,\\\n",
    "                                                  mask= mask_wcosine_p)"
   ]
  },
  {
   "cell_type": "code",
   "execution_count": 84,
   "metadata": {},
   "outputs": [
    {
     "name": "stdout",
     "output_type": "stream",
     "text": [
      "mlp_2_.3\n"
     ]
    }
   ],
   "source": [
    "_, scores_random_mlp_cut = model_selection_random(P_FOLDER, \"fixed_test\", \\\n",
    "                                                  kw=\"mlp\" ,\\\n",
    "                                                  mask= mask_wcosine_p)"
   ]
  },
  {
   "cell_type": "code",
   "execution_count": 102,
   "metadata": {},
   "outputs": [],
   "source": [
    "scores_random_test_cut= {**scores_random_knn_cut,\n",
    "                         **scores_random_lr_cut,\n",
    "                        **scores_random_mlp_cut}"
   ]
  },
  {
   "cell_type": "code",
   "execution_count": 112,
   "metadata": {},
   "outputs": [
    {
     "data": {
      "image/png": "[encoded data removed]",
      "text/plain": [
       "<Figure size 504x288 with 1 Axes>"
      ]
     },
     "metadata": {
      "needs_background": "light"
     },
     "output_type": "display_data"
    }
   ],
   "source": [
    "orderer_f = lambda x: [\"specknnR_1_.5\", \"linear_.3\", \"mlp_2_.3\", \"specknnR_3_.5\"].index(x)\n",
    "# hue_f = lambda x: [\".5\",\".8\",\"1\",\"1.2\"].index(x.split(\"_\")[2])\n",
    "plot_scores(scores_random_test_cut, metrics=\"mf1\", x=probs,\n",
    "            orderer_f=orderer_f,hue_f=None,\n",
    "            title= \"Scenario B\" if kind==\"de_novo\" else \"Scenario A - incorrectly matched\",\n",
    "            xlabel= \"p\", ylabel=\"meanF1\", y_max=1,\n",
    "            save_to_path=f\"figures/{kind}/evaluation/incorrect_random.pdf\")"
   ]
  },
  {
   "cell_type": "markdown",
   "metadata": {},
   "source": [
    "## Evaluation on all"
   ]
  },
  {
   "cell_type": "markdown",
   "metadata": {
    "tags": []
   },
   "source": [
    "## low"
   ]
  },
  {
   "cell_type": "code",
   "execution_count": 49,
   "metadata": {},
   "outputs": [
    {
     "name": "stdout",
     "output_type": "stream",
     "text": [
      "specknn_1\n",
      "Possible k up to 30, predict up to 20 peaks\n",
      "Selected up to k=30, l=4, j=6\n",
      "Selected up to k=30, l=None, to_rel_inten=0.2\n",
      "[21122 22328 22520 22555 22561 22559 22562 22562 22563 22530 22501 22451\n",
      " 22407 22354 22277 22205 22122 22016 21919 21799 21656 21519 21381 21214\n",
      " 21040 20846 20638 20437 20264 20044]\n"
     ]
    }
   ],
   "source": [
    "_, scores_knn = model_selection(P_FOLDER, \"spec_test\", kw=\"specknn_1\", up_to_k=30, \\\n",
    "                                      l=4, j=6, to_rel_inten=.2, l_rel=None)"
   ]
  },
  {
   "cell_type": "code",
   "execution_count": 24,
   "metadata": {},
   "outputs": [
    {
     "name": "stdout",
     "output_type": "stream",
     "text": [
      "g2vknn_peak\n",
      "Possible k up to 30, predict up to 20 peaks\n",
      "Selected up to k=30, l=4, j=6\n",
      "Selected up to k=30, l=None, to_rel_inten=0.2\n",
      "[21122 22328 22520 22555 22561 22559 22562 22562 22563 22530 22501 22451\n",
      " 22408 22354 22277 22205 22122 22016 21919 21799 21656 21519 21381 21214\n",
      " 21040 20846 20638 20437 20264 20044]\n"
     ]
    }
   ],
   "source": [
    "_, scores_g2v = model_selection(P_FOLDER, \"gen_test\", kw=\"g2v\", up_to_k=30, \\\n",
    "                                      l=4, j=6, to_rel_inten=.2, l_rel=None)"
   ]
  },
  {
   "cell_type": "code",
   "execution_count": 25,
   "metadata": {},
   "outputs": [
    {
     "name": "stdout",
     "output_type": "stream",
     "text": [
      "elstm_unfreeze_intens_dst\n",
      "Possible k up to 30, predict up to 20 peaks\n",
      "Selected up to k=30, l=4, j=6\n",
      "Selected up to k=30, l=None, to_rel_inten=0.2\n",
      "[21122 22328 22520 22555 22561 22559 22562 22562 22563 22530 22501 22451\n",
      " 22407 22354 22277 22205 22122 22016 21919 21799 21656 21519 21381 21214\n",
      " 21040 20846 20638 20437 20264 20044]\n"
     ]
    }
   ],
   "source": [
    "_, scores_lstm = model_selection(P_FOLDER, \"gen_test\", kw=\"elstm_unfreeze_intens_dst\", up_to_k=30, \\\n",
    "                                      l=4, j=6, to_rel_inten=.2, l_rel=None)"
   ]
  },
  {
   "cell_type": "code",
   "execution_count": 26,
   "metadata": {},
   "outputs": [
    {
     "name": "stdout",
     "output_type": "stream",
     "text": [
      "gpt2_ns_auto\n",
      "Possible k up to 30, predict up to 20 peaks\n",
      "Selected up to k=30, l=4, j=6\n",
      "Selected up to k=30, l=None, to_rel_inten=0.2\n",
      "[21122 22328 22520 22555 22561 22559 22562 22562 22563 22530 22501 22451\n",
      " 22407 22354 22277 22205 22122 22016 21919 21799 21656 21519 21381 21214\n",
      " 21040 20846 20638 20437 20264 20044]\n"
     ]
    }
   ],
   "source": [
    "_, scores_gpt = model_selection(P_FOLDER, \"hugg_test\", kw=\"gpt\", up_to_k=30, \\\n",
    "                                      l=4, j=6, to_rel_inten=.2, l_rel=None)"
   ]
  },
  {
   "cell_type": "code",
   "execution_count": 50,
   "metadata": {},
   "outputs": [],
   "source": [
    "scores_test = {**scores_knn, **scores_gpt, **scores_lstm, **scores_g2v}"
   ]
  },
  {
   "cell_type": "code",
   "execution_count": 56,
   "metadata": {},
   "outputs": [
    {
     "data": {
      "image/png": "[encoded data removed]",
      "text/plain": [
       "<Figure size 504x288 with 1 Axes>"
      ]
     },
     "metadata": {
      "needs_background": "light"
     },
     "output_type": "display_data"
    }
   ],
   "source": [
    "orderer_f = lambda x: [\"specknn\", \"gpt2\",\"elstm\", \"g2vknn\"].index(x.split(\"_\")[0])\n",
    "hue_f = lambda x: [1,3,5,10].index(int(x.split(\"_\")[1]))\n",
    "plot_scores(scores_test, metrics=\"mpi\",\n",
    "            orderer_f=orderer_f,hue_f=None,\n",
    "            title= \"Scenario B\" if kind==\"de_novo\" else \"Scenario A\", y_max=1,\n",
    "            xlabel= \"k\", ylabel=\"meanPrecision\",\n",
    "           save_to_path=f\"figures/{kind}/evaluation/topk.pdf\")"
   ]
  },
  {
   "cell_type": "markdown",
   "metadata": {},
   "source": [
    "### Random"
   ]
  },
  {
   "cell_type": "code",
   "execution_count": 95,
   "metadata": {},
   "outputs": [
    {
     "name": "stdout",
     "output_type": "stream",
     "text": [
      "specknnR_1_.5\n"
     ]
    },
    {
     "name": "stderr",
     "output_type": "stream",
     "text": [
      "/auto/brno6/home/xstary1/raims/metrics.py:232: RuntimeWarning: Mean of empty slice\n",
      "  \"mp\": np.nanmean(recs_some, axis=1),\n",
      "/auto/brno6/home/xstary1/raims/metrics.py:234: RuntimeWarning: Mean of empty slice\n",
      "  \"mf1\": np.nanmean(f1_some, axis=1),\n",
      "/auto/brno6/home/xstary1/raims/metrics.py:235: RuntimeWarning: Mean of empty slice\n",
      "  \"mps\": np.nanmean(precs_m, axis=1)\n"
     ]
    }
   ],
   "source": [
    "_, scores_random_knn = model_selection_random(P_FOLDER, \"spec_test\", \\\n",
    "                                                  kw=\"specknnR_1_.5\" )\n"
   ]
  },
  {
   "cell_type": "code",
   "execution_count": 96,
   "metadata": {},
   "outputs": [
    {
     "name": "stdout",
     "output_type": "stream",
     "text": [
      "linear_.3\n"
     ]
    }
   ],
   "source": [
    "_, scores_random_lr = model_selection_random(P_FOLDER, \"fixed_test\", \\\n",
    "                                                  kw=\"linear\")"
   ]
  },
  {
   "cell_type": "code",
   "execution_count": 97,
   "metadata": {},
   "outputs": [
    {
     "name": "stdout",
     "output_type": "stream",
     "text": [
      "mlp_2_.3\n"
     ]
    }
   ],
   "source": [
    "_, scores_random_mlp = model_selection_random(P_FOLDER, \"fixed_test\", \\\n",
    "                                                  kw=\"mlp\" )"
   ]
  },
  {
   "cell_type": "code",
   "execution_count": 98,
   "metadata": {},
   "outputs": [],
   "source": [
    "scores_random_test = {**scores_random_knn,\n",
    "                        **scores_random_lr,\n",
    "                        **scores_random_mlp}"
   ]
  },
  {
   "cell_type": "code",
   "execution_count": 77,
   "metadata": {},
   "outputs": [
    {
     "data": {
      "image/png": "[encoded data removed]",
      "text/plain": [
       "<Figure size 504x288 with 1 Axes>"
      ]
     },
     "metadata": {
      "needs_background": "light"
     },
     "output_type": "display_data"
    }
   ],
   "source": [
    "orderer_f = lambda x: x[2]\n",
    "# hue_f = lambda x: [\".5\",\".8\",\"1\",\"1.2\"].index(x.split(\"_\")[2])\n",
    "plot_scores(scores_random_test, metrics=\"mf1\", x=probs,\n",
    "            orderer_f=orderer_f,hue_f=None,\n",
    "            title= \"Scenario B\" if kind==\"de_novo\" else \"Scenario A\", y_max=1,\n",
    "            xlabel= \"p\", ylabel=\"meanF1\",\n",
    "            save_to_path=f\"figures/{kind}/evaluation/random.pdf\")"
   ]
  },
  {
   "cell_type": "code",
   "execution_count": 99,
   "metadata": {},
   "outputs": [
    {
     "data": {
      "image/png": "[encoded data removed]",
      "text/plain": [
       "<Figure size 504x288 with 1 Axes>"
      ]
     },
     "metadata": {
      "needs_background": "light"
     },
     "output_type": "display_data"
    }
   ],
   "source": [
    "orderer_f = lambda x: x[2]\n",
    "# hue_f = lambda x: [\".5\",\".8\",\"1\",\"1.2\"].index(x.split(\"_\")[2])\n",
    "plot_scores(scores_random_test, metrics=\"mp\", x=probs,\n",
    "            orderer_f=orderer_f,hue_f=None,\n",
    "            title= \"Scenario B\" if kind==\"de_novo\" else \"Scenario A\", y_max=1,\n",
    "            xlabel= \"p\", ylabel=\"meanPrecision\",\n",
    "            save_to_path=f\"figures/{kind}/evaluation/random_prec.pdf\")"
   ]
  },
  {
   "cell_type": "code",
   "execution_count": 100,
   "metadata": {},
   "outputs": [
    {
     "data": {
      "image/png": "[encoded data removed]",
      "text/plain": [
       "<Figure size 504x288 with 1 Axes>"
      ]
     },
     "metadata": {
      "needs_background": "light"
     },
     "output_type": "display_data"
    }
   ],
   "source": [
    "orderer_f = lambda x: x[2]\n",
    "# hue_f = lambda x: [\".5\",\".8\",\"1\",\"1.2\"].index(x.split(\"_\")[2])\n",
    "plot_scores(scores_random_test, metrics=\"mr\", x=probs,\n",
    "            orderer_f=orderer_f,hue_f=None,\n",
    "            title= \"Scenario B\" if kind==\"de_novo\" else \"Scenario A\", y_max=1,\n",
    "            xlabel= \"p\", ylabel=\"meanRecall\",\n",
    "            save_to_path=f\"figures/{kind}/evaluation/random_rec.pdf\")"
   ]
  },
  {
   "cell_type": "code",
   "execution_count": null,
   "metadata": {},
   "outputs": [],
   "source": []
  }
 ],
 "metadata": {
  "kernelspec": {
   "display_name": "Python 3",
   "language": "python",
   "name": "python3"
  },
  "language_info": {
   "codemirror_mode": {
    "name": "ipython",
    "version": 3
   },
   "file_extension": ".py",
   "mimetype": "text/x-python",
   "name": "python",
   "nbconvert_exporter": "python",
   "pygments_lexer": "ipython3",
   "version": "3.8.10"
  }
 },
 "nbformat": 4,
 "nbformat_minor": 5
}