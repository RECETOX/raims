{
 "cells": [
  {
   "cell_type": "markdown",
   "metadata": {},
   "source": [
    "# Gas2Vec\n",
    "Author: Michal Stary\n",
    "\n",
    "This notebook contains adaptation of Spec2Vec for GC-MS data. \n",
    " "
   ]
  },
  {
   "cell_type": "markdown",
   "metadata": {},
   "source": [
    "## Settings"
   ]
  },
  {
   "cell_type": "code",
   "execution_count": 1,
   "metadata": {},
   "outputs": [],
   "source": [
    "base = \"data\"\n",
    "dataset = \"nist\"\n",
    "kind = \"de_novo\"\n",
    "\n",
    "data_train_path =f\"{base}/{dataset}/{kind}/train.msp\"\n",
    "data_val_path =f\"{base}/{dataset}/{kind}/val.msp\"\n",
    "data_test_path =f\"{base}/{dataset}/{kind}/test.msp\"\n",
    "\n",
    "%load_ext autoreload\n",
    "%autoreload 2"
   ]
  },
  {
   "cell_type": "markdown",
   "metadata": {},
   "source": [
    "## Spectral data\n",
    "We use the Spec2Vec and MatchMS libraries to load and preprocess spectral data.\n",
    "\n",
    "Uncomment the pip install lines or run them directly in terminal"
   ]
  },
  {
   "cell_type": "code",
   "execution_count": 2,
   "metadata": {},
   "outputs": [
    {
     "ename": "ModuleNotFoundError",
     "evalue": "No module named 'data_utils'",
     "output_type": "error",
     "traceback": [
      "\u001B[0;31m---------------------------------------------------------------------------\u001B[0m",
      "\u001B[0;31mModuleNotFoundError\u001B[0m                       Traceback (most recent call last)",
      "\u001B[0;32m/tmp/ipykernel_78/1573660748.py\u001B[0m in \u001B[0;36m<module>\u001B[0;34m\u001B[0m\n\u001B[1;32m      1\u001B[0m \u001B[0;32mfrom\u001B[0m \u001B[0mmatchms\u001B[0m\u001B[0;34m.\u001B[0m\u001B[0mimporting\u001B[0m \u001B[0;32mimport\u001B[0m \u001B[0mload_from_msp\u001B[0m\u001B[0;34m\u001B[0m\u001B[0;34m\u001B[0m\u001B[0m\n\u001B[1;32m      2\u001B[0m \u001B[0;32mfrom\u001B[0m \u001B[0mspec2vec\u001B[0m \u001B[0;32mimport\u001B[0m \u001B[0mSpectrumDocument\u001B[0m\u001B[0;34m\u001B[0m\u001B[0;34m\u001B[0m\u001B[0m\n\u001B[0;32m----> 3\u001B[0;31m \u001B[0;32mfrom\u001B[0m \u001B[0mdata_utils\u001B[0m \u001B[0;32mimport\u001B[0m \u001B[0mspectrum_processing\u001B[0m\u001B[0;34m,\u001B[0m \u001B[0mget_n_samples\u001B[0m\u001B[0;34m\u001B[0m\u001B[0;34m\u001B[0m\u001B[0m\n\u001B[0m\u001B[1;32m      4\u001B[0m \u001B[0;32mfrom\u001B[0m \u001B[0mdata_utils\u001B[0m \u001B[0;32mimport\u001B[0m \u001B[0mIntegerMzCoder\u001B[0m\u001B[0;34m,\u001B[0m \u001B[0mTextMzCoder\u001B[0m\u001B[0;34m,\u001B[0m \u001B[0mTopKDS\u001B[0m\u001B[0;34m,\u001B[0m \u001B[0mGenDS\u001B[0m\u001B[0;34m\u001B[0m\u001B[0;34m\u001B[0m\u001B[0m\n\u001B[1;32m      5\u001B[0m \u001B[0;32mimport\u001B[0m \u001B[0mnumpy\u001B[0m \u001B[0;32mas\u001B[0m \u001B[0mnp\u001B[0m\u001B[0;34m\u001B[0m\u001B[0;34m\u001B[0m\u001B[0m\n",
      "\u001B[0;31mModuleNotFoundError\u001B[0m: No module named 'data_utils'"
     ]
    }
   ],
   "source": [
    "from matchms.importing import load_from_msp\n",
    "from spec2vec import SpectrumDocument\n",
    "from data_utils import spectrum_processing, get_n_samples\n",
    "from data_utils import IntegerMzCoder, TextMzCoder, TopKDS, GenDS\n",
    "import numpy as np\n",
    "from gensim.models import Word2Vec"
   ]
  },
  {
   "cell_type": "code",
   "execution_count": 4,
   "metadata": {},
   "outputs": [],
   "source": [
    "def load_process_documents(path):\n",
    "    # Load data from MSP file and apply filters\n",
    "    spectrums = [spectrum_processing(s) for s in load_from_msp(path)]\n",
    "    # Omit spectrums that didn't qualify for analysis\n",
    "    spectrums = [s for s in spectrums if s is not None]\n",
    "    # Create spectrum documents\n",
    "    documents = [SpectrumDocument(s, n_decimals=0) for s in spectrums]\n",
    "    return documents\n",
    "\n",
    "documents_train = load_process_documents(data_train_path)"
   ]
  },
  {
   "cell_type": "markdown",
   "metadata": {},
   "source": [
    "## Gas2Vec model\n",
    "Load or train the w2v Gensim model using spec2vec library.\n",
    "\n",
    "Either load pretrained file or uncomment the training and train your own."
   ]
  },
  {
   "cell_type": "code",
   "execution_count": null,
   "metadata": {},
   "outputs": [
    {
     "name": "stdout",
     "output_type": "stream",
     "text": [
      "The value of learning_rate_initial is set from 0.025 (default) to 0.01\n",
      "The value of workers is set from 4 (default) to 32\n",
      "  Epoch 1 of 9.Change in loss after epoch 1: 854596.875\n",
      "Saving model with name: gas2vec/de_novo3_iter_1.model\n",
      "  Epoch 2 of 9.Change in loss after epoch 2: 1197873.875\n",
      "Saving model with name: gas2vec/de_novo3_iter_2.model\n",
      "  Epoch 3 of 9.Change in loss after epoch 3: 857958.75\n",
      "Saving model with name: gas2vec/de_novo3_iter_3.model\n",
      "  Epoch 4 of 9.Change in loss after epoch 4: 997299.5\n",
      "Saving model with name: gas2vec/de_novo3_iter_4.model\n",
      "  Epoch 5 of 9.Change in loss after epoch 5: 987134.5\n",
      "Saving model with name: gas2vec/de_novo3_iter_5.model\n"
     ]
    }
   ],
   "source": [
    "# train integer w2v \n",
    "from spec2vec.model_building import train_new_word2vec_model\n",
    "\n",
    "model_unique_file = f\"gas2vec/{kind}3.model\"\n",
    "model_unique = train_new_word2vec_model(documents_train, iterations=list(range(0,10)), filename=model_unique_file,\n",
    "                               workers=32, progress_logger=True, learning_rate_initial=0.01)"
   ]
  },
  {
   "cell_type": "code",
   "execution_count": null,
   "metadata": {},
   "outputs": [
    {
     "name": "stdout",
     "output_type": "stream",
     "text": [
      "The value of learning_rate_initial is set from 0.025 (default) to 0.01\n",
      "The value of workers is set from 4 (default) to 32\n",
      "Warning! Number of total iterations is too high for given learning_rate decay.\n",
      "Learning_rate_decay will be set from 0.00025 to 6.578947368421052e-05.\n",
      "  Epoch 1 of 152.Change in loss after epoch 1: 1108743.625\n",
      "  Epoch 2 of 152.Change in loss after epoch 2: 954604.625\n",
      "Saving model with name: gas2vec/de_novo2_iter_2.model\n",
      "  Epoch 3 of 152.Change in loss after epoch 3: 1009924.5\n",
      "  Epoch 4 of 152.Change in loss after epoch 4: 1027443.5\n",
      "Saving model with name: gas2vec/de_novo2_iter_4.model\n",
      "  Epoch 5 of 152.Change in loss after epoch 5: 1007275.75\n",
      "  Epoch 6 of 152.Change in loss after epoch 6: 968388.5\n",
      "Saving model with name: gas2vec/de_novo2_iter_6.model\n",
      "  Epoch 7 of 152.Change in loss after epoch 7: 903257.5\n",
      "  Epoch 8 of 152.Change in loss after epoch 8: 945666.5\n",
      "Saving model with name: gas2vec/de_novo2_iter_8.model\n",
      "  Epoch 9 of 152.Change in loss after epoch 9: 954410.5\n",
      "  Epoch 10 of 152.Change in loss after epoch 10: 899357.0\n",
      "Saving model with name: gas2vec/de_novo2_iter_10.model\n",
      "  Epoch 11 of 152.Change in loss after epoch 11: 972893.0\n",
      "  Epoch 12 of 152.Change in loss after epoch 12: 901320.0\n",
      "Saving model with name: gas2vec/de_novo2_iter_12.model\n",
      "  Epoch 13 of 152.Change in loss after epoch 13: 897458.0\n",
      "  Epoch 14 of 152.Change in loss after epoch 14: 936244.0\n",
      "Saving model with name: gas2vec/de_novo2_iter_14.model\n",
      "  Epoch 15 of 152.Change in loss after epoch 15: 892094.0\n",
      "  Epoch 16 of 152.Change in loss after epoch 16: 866691.0\n",
      "Saving model with name: gas2vec/de_novo2_iter_16.model\n",
      "  Epoch 17 of 152.Change in loss after epoch 17: 916943.0\n",
      "  Epoch 18 of 152.Change in loss after epoch 18: 925037.0\n",
      "Saving model with name: gas2vec/de_novo2_iter_18.model\n",
      "  Epoch 19 of 152.Change in loss after epoch 19: 795868.0\n",
      "  Epoch 20 of 152.Change in loss after epoch 20: 726234.0\n",
      "Saving model with name: gas2vec/de_novo2_iter_20.model\n",
      "  Epoch 21 of 152.Change in loss after epoch 21: 852516.0\n",
      "  Epoch 22 of 152.Change in loss after epoch 22: 823350.0\n",
      "Saving model with name: gas2vec/de_novo2_iter_22.model\n",
      "  Epoch 23 of 152.Change in loss after epoch 23: 758348.0\n",
      "  Epoch 24 of 152.Change in loss after epoch 24: 820204.0\n",
      "Saving model with name: gas2vec/de_novo2_iter_24.model\n",
      "  Epoch 25 of 152.Change in loss after epoch 25: 760634.0\n",
      "  Epoch 26 of 152.Change in loss after epoch 26: 878988.0\n",
      "Saving model with name: gas2vec/de_novo2_iter_26.model\n",
      "  Epoch 27 of 152.Change in loss after epoch 27: 804154.0\n",
      "  Epoch 28 of 152.Change in loss after epoch 28: 801862.0\n",
      "Saving model with name: gas2vec/de_novo2_iter_28.model\n",
      "  Epoch 29 of 152.Change in loss after epoch 29: 750658.0\n",
      "  Epoch 30 of 152.Change in loss after epoch 30: 758470.0\n",
      "Saving model with name: gas2vec/de_novo2_iter_30.model\n",
      "  Epoch 31 of 152.Change in loss after epoch 31: 746796.0\n",
      "  Epoch 32 of 152.Change in loss after epoch 32: 780856.0\n",
      "Saving model with name: gas2vec/de_novo2_iter_32.model\n",
      "  Epoch 33 of 152.Change in loss after epoch 33: 712048.0\n",
      "  Epoch 34 of 152.Change in loss after epoch 34: 792064.0\n",
      "Saving model with name: gas2vec/de_novo2_iter_34.model\n",
      "  Epoch 35 of 152.Change in loss after epoch 35: 748658.0\n",
      "  Epoch 36 of 152.Change in loss after epoch 36: 708812.0\n",
      "Saving model with name: gas2vec/de_novo2_iter_36.model\n",
      "  Epoch 37 of 152.Change in loss after epoch 37: 788754.0\n",
      "  Epoch 38 of 152.Change in loss after epoch 38: 842608.0\n",
      "Saving model with name: gas2vec/de_novo2_iter_38.model\n",
      "  Epoch 39 of 152.Change in loss after epoch 39: 752450.0\n",
      "  Epoch 40 of 152.Change in loss after epoch 40: 507448.0\n",
      "Saving model with name: gas2vec/de_novo2_iter_40.model\n",
      "  Epoch 41 of 152.Change in loss after epoch 41: 560544.0\n",
      "  Epoch 42 of 152.Change in loss after epoch 42: 493420.0\n",
      "Saving model with name: gas2vec/de_novo2_iter_42.model\n",
      "  Epoch 43 of 152.Change in loss after epoch 43: 508796.0\n",
      "  Epoch 44 of 152.Change in loss after epoch 44: 516024.0\n",
      "Saving model with name: gas2vec/de_novo2_iter_44.model\n",
      "  Epoch 45 of 152.Change in loss after epoch 45: 519008.0\n",
      "  Epoch 46 of 152.Change in loss after epoch 46: 546844.0\n",
      "Saving model with name: gas2vec/de_novo2_iter_46.model\n",
      "  Epoch 47 of 152.Change in loss after epoch 47: 530224.0\n",
      "  Epoch 48 of 152.Change in loss after epoch 48: 550892.0\n",
      "Saving model with name: gas2vec/de_novo2_iter_48.model\n"
     ]
    }
   ],
   "source": [
    "# train integer w2v \n",
    "from spec2vec.model_building import train_new_word2vec_model\n",
    "\n",
    "model_unique_file = f\"gas2vec/{kind}2.model\"\n",
    "model_unique = train_new_word2vec_model(documents_train, iterations=list(range(0,153,2)), filename=model_unique_file,\n",
    "                               workers=32, progress_logger=True, learning_rate_initial=0.01)"
   ]
  },
  {
   "cell_type": "code",
   "execution_count": 4,
   "metadata": {},
   "outputs": [
    {
     "name": "stdout",
     "output_type": "stream",
     "text": [
      "The value of learning_rate_initial is set from 0.025 (default) to 0.01\n",
      "The value of workers is set from 4 (default) to 32\n",
      "Warning! Number of total iterations is too high for given learning_rate decay.\n",
      "Learning_rate_decay will be set from 0.00025 to 9.80392156862745e-05.\n",
      "  Epoch 1 of 102.Change in loss after epoch 1: 1089201.5\n",
      "  Epoch 2 of 102.Change in loss after epoch 2: 1047996.0\n",
      "Saving model with name: gas2vec/de_novo_iter_2.model\n",
      "  Epoch 3 of 102.Change in loss after epoch 3: 1006778.0\n",
      "  Epoch 4 of 102.Change in loss after epoch 4: 1013359.75\n",
      "Saving model with name: gas2vec/de_novo_iter_4.model\n",
      "  Epoch 5 of 102.Change in loss after epoch 5: 993349.75\n",
      "  Epoch 6 of 102.Change in loss after epoch 6: 975245.5\n",
      "Saving model with name: gas2vec/de_novo_iter_6.model\n",
      "  Epoch 7 of 102.Change in loss after epoch 7: 961793.5\n",
      "  Epoch 8 of 102.Change in loss after epoch 8: 997244.0\n",
      "Saving model with name: gas2vec/de_novo_iter_8.model\n",
      "  Epoch 9 of 102.Change in loss after epoch 9: 950727.0\n",
      "  Epoch 10 of 102.Change in loss after epoch 10: 898472.0\n",
      "Saving model with name: gas2vec/de_novo_iter_10.model\n",
      "  Epoch 11 of 102.Change in loss after epoch 11: 883632.0\n",
      "  Epoch 12 of 102.Change in loss after epoch 12: 921624.0\n",
      "Saving model with name: gas2vec/de_novo_iter_12.model\n",
      "  Epoch 13 of 102.Change in loss after epoch 13: 899381.0\n",
      "  Epoch 14 of 102.Change in loss after epoch 14: 888608.0\n",
      "Saving model with name: gas2vec/de_novo_iter_14.model\n",
      "  Epoch 15 of 102.Change in loss after epoch 15: 853092.0\n",
      "  Epoch 16 of 102.Change in loss after epoch 16: 881369.0\n",
      "Saving model with name: gas2vec/de_novo_iter_16.model\n",
      "  Epoch 17 of 102.Change in loss after epoch 17: 936448.0\n",
      "  Epoch 18 of 102.Change in loss after epoch 18: 854445.0\n",
      "Saving model with name: gas2vec/de_novo_iter_18.model\n",
      "  Epoch 19 of 102.Change in loss after epoch 19: 832762.0\n",
      "  Epoch 20 of 102.Change in loss after epoch 20: 726712.0\n",
      "Saving model with name: gas2vec/de_novo_iter_20.model\n",
      "  Epoch 21 of 102.Change in loss after epoch 21: 774636.0\n",
      "  Epoch 22 of 102.Change in loss after epoch 22: 765540.0\n",
      "Saving model with name: gas2vec/de_novo_iter_22.model\n",
      "  Epoch 23 of 102.Change in loss after epoch 23: 802534.0\n",
      "  Epoch 24 of 102.Change in loss after epoch 24: 765592.0\n",
      "Saving model with name: gas2vec/de_novo_iter_24.model\n",
      "  Epoch 25 of 102.Change in loss after epoch 25: 780388.0\n",
      "  Epoch 26 of 102.Change in loss after epoch 26: 776352.0\n",
      "Saving model with name: gas2vec/de_novo_iter_26.model\n",
      "  Epoch 27 of 102.Change in loss after epoch 27: 763684.0\n",
      "  Epoch 28 of 102.Change in loss after epoch 28: 796466.0\n",
      "Saving model with name: gas2vec/de_novo_iter_28.model\n",
      "  Epoch 29 of 102.Change in loss after epoch 29: 786394.0\n",
      "  Epoch 30 of 102.Change in loss after epoch 30: 746254.0\n",
      "Saving model with name: gas2vec/de_novo_iter_30.model\n",
      "  Epoch 31 of 102.Change in loss after epoch 31: 786940.0\n",
      "  Epoch 32 of 102.Change in loss after epoch 32: 760300.0\n",
      "Saving model with name: gas2vec/de_novo_iter_32.model\n",
      "  Epoch 33 of 102.Change in loss after epoch 33: 737712.0\n",
      "  Epoch 34 of 102.Change in loss after epoch 34: 749586.0\n",
      "Saving model with name: gas2vec/de_novo_iter_34.model\n",
      "  Epoch 35 of 102.Change in loss after epoch 35: 791530.0\n",
      "  Epoch 36 of 102.Change in loss after epoch 36: 746766.0\n",
      "Saving model with name: gas2vec/de_novo_iter_36.model\n",
      "  Epoch 37 of 102.Change in loss after epoch 37: 753640.0\n",
      "  Epoch 38 of 102.Change in loss after epoch 38: 750232.0\n",
      "Saving model with name: gas2vec/de_novo_iter_38.model\n",
      "  Epoch 39 of 102.Change in loss after epoch 39: 766534.0\n",
      "  Epoch 40 of 102.Change in loss after epoch 40: 670840.0\n",
      "Saving model with name: gas2vec/de_novo_iter_40.model\n",
      "  Epoch 41 of 102.Change in loss after epoch 41: 538564.0\n",
      "  Epoch 42 of 102.Change in loss after epoch 42: 540848.0\n",
      "Saving model with name: gas2vec/de_novo_iter_42.model\n",
      "  Epoch 44 of 102.Change in loss after epoch 44: 528536.0\n",
      "Saving model with name: gas2vec/de_novo_iter_44.model\n",
      "  Epoch 45 of 102.Change in loss after epoch 45: 506168.0\n",
      "  Epoch 46 of 102.Change in loss after epoch 46: 533236.0\n",
      "Saving model with name: gas2vec/de_novo_iter_46.model\n",
      "  Epoch 47 of 102.Change in loss after epoch 47: 539284.0\n",
      "  Epoch 48 of 102.Change in loss after epoch 48: 520596.0\n",
      "Saving model with name: gas2vec/de_novo_iter_48.model\n",
      "  Epoch 49 of 102.Change in loss after epoch 49: 484304.0\n",
      "  Epoch 50 of 102.Change in loss after epoch 50: 516444.0\n",
      "Saving model with name: gas2vec/de_novo_iter_50.model\n",
      "  Epoch 51 of 102.Change in loss after epoch 51: 514884.0\n",
      "  Epoch 52 of 102.Change in loss after epoch 52: 499616.0\n",
      "Saving model with name: gas2vec/de_novo_iter_52.model\n",
      "  Epoch 53 of 102.Change in loss after epoch 53: 515180.0\n",
      "  Epoch 54 of 102.Change in loss after epoch 54: 519016.0\n",
      "Saving model with name: gas2vec/de_novo_iter_54.model\n",
      "  Epoch 55 of 102.Change in loss after epoch 55: 528504.0\n",
      "  Epoch 56 of 102.Change in loss after epoch 56: 505880.0\n",
      "Saving model with name: gas2vec/de_novo_iter_56.model\n",
      "  Epoch 57 of 102.Change in loss after epoch 57: 501332.0\n",
      "  Epoch 58 of 102.Change in loss after epoch 58: 516420.0\n",
      "Saving model with name: gas2vec/de_novo_iter_58.model\n",
      "  Epoch 59 of 102.Change in loss after epoch 59: 495176.0\n",
      "  Epoch 60 of 102.Change in loss after epoch 60: 506496.0\n",
      "Saving model with name: gas2vec/de_novo_iter_60.model\n",
      "  Epoch 61 of 102.Change in loss after epoch 61: 498444.0\n",
      "  Epoch 62 of 102.Change in loss after epoch 62: 527068.0\n",
      "Saving model with name: gas2vec/de_novo_iter_62.model\n",
      "  Epoch 63 of 102.Change in loss after epoch 63: 505880.0\n",
      "  Epoch 64 of 102.Change in loss after epoch 64: 499220.0\n",
      "Saving model with name: gas2vec/de_novo_iter_64.model\n",
      "  Epoch 65 of 102.Change in loss after epoch 65: 497268.0\n",
      "  Epoch 66 of 102.Change in loss after epoch 66: 481944.0\n",
      "Saving model with name: gas2vec/de_novo_iter_66.model\n",
      "  Epoch 67 of 102.Change in loss after epoch 67: 504544.0\n",
      "  Epoch 68 of 102.Change in loss after epoch 68: 464728.0\n",
      "Saving model with name: gas2vec/de_novo_iter_68.model\n",
      "  Epoch 69 of 102.Change in loss after epoch 69: 462392.0\n",
      "  Epoch 70 of 102.Change in loss after epoch 70: 489512.0\n",
      "Saving model with name: gas2vec/de_novo_iter_70.model\n",
      "  Epoch 71 of 102.Change in loss after epoch 71: 470628.0\n",
      "  Epoch 72 of 102.Change in loss after epoch 72: 476240.0\n",
      "Saving model with name: gas2vec/de_novo_iter_72.model\n",
      "  Epoch 73 of 102.Change in loss after epoch 73: 472684.0\n",
      "  Epoch 74 of 102.Change in loss after epoch 74: 447888.0\n",
      "Saving model with name: gas2vec/de_novo_iter_74.model\n",
      "  Epoch 75 of 102.Change in loss after epoch 75: 465572.0\n",
      "  Epoch 76 of 102.Change in loss after epoch 76: 452360.0\n",
      "Saving model with name: gas2vec/de_novo_iter_76.model\n",
      "  Epoch 77 of 102.Change in loss after epoch 77: 437168.0\n",
      "  Epoch 78 of 102.Change in loss after epoch 78: 458496.0\n",
      "Saving model with name: gas2vec/de_novo_iter_78.model\n",
      "  Epoch 79 of 102.Change in loss after epoch 79: 461000.0\n",
      "  Epoch 80 of 102.Change in loss after epoch 80: 447672.0\n",
      "Saving model with name: gas2vec/de_novo_iter_80.model\n",
      "  Epoch 81 of 102.Change in loss after epoch 81: 429984.0\n",
      "  Epoch 82 of 102.Change in loss after epoch 82: 443776.0\n",
      "Saving model with name: gas2vec/de_novo_iter_82.model\n",
      "  Epoch 83 of 102.Change in loss after epoch 83: 434736.0\n",
      "  Epoch 84 of 102.Change in loss after epoch 84: 419300.0\n",
      "Saving model with name: gas2vec/de_novo_iter_84.model\n",
      "  Epoch 85 of 102.Change in loss after epoch 85: 419084.0\n",
      "  Epoch 86 of 102.Change in loss after epoch 86: 398216.0\n",
      "Saving model with name: gas2vec/de_novo_iter_86.model\n",
      "  Epoch 87 of 102.Change in loss after epoch 87: 397180.0\n",
      "  Epoch 88 of 102.Change in loss after epoch 88: 396496.0\n",
      "Saving model with name: gas2vec/de_novo_iter_88.model\n",
      "  Epoch 89 of 102.Change in loss after epoch 89: 358680.0\n",
      "  Epoch 90 of 102.Change in loss after epoch 90: 365740.0\n",
      "Saving model with name: gas2vec/de_novo_iter_90.model\n",
      "  Epoch 91 of 102.Change in loss after epoch 91: 355672.0\n",
      "  Epoch 92 of 102.Change in loss after epoch 92: 346688.0\n",
      "Saving model with name: gas2vec/de_novo_iter_92.model\n",
      "  Epoch 93 of 102.Change in loss after epoch 93: 317448.0\n",
      "  Epoch 94 of 102.Change in loss after epoch 94: 304560.0\n",
      "Saving model with name: gas2vec/de_novo_iter_94.model\n",
      "  Epoch 95 of 102.Change in loss after epoch 95: 303400.0\n",
      "  Epoch 96 of 102.Change in loss after epoch 96: 283224.0\n",
      "Saving model with name: gas2vec/de_novo_iter_96.model\n",
      "  Epoch 97 of 102.Change in loss after epoch 97: 280256.0\n",
      "  Epoch 98 of 102.Change in loss after epoch 98: 255540.0\n",
      "Saving model with name: gas2vec/de_novo_iter_98.model\n",
      "  Epoch 99 of 102.Change in loss after epoch 99: 254736.0\n",
      "  Epoch 100 of 102.Change in loss after epoch 100: 229808.0\n",
      "Saving model with name: gas2vec/de_novo_iter_100.model\n",
      "  Epoch 101 of 102.Change in loss after epoch 101: 218412.0\n",
      "  Epoch 102 of 102.Change in loss after epoch 102: 185256.0\n",
      "Saving model with name: gas2vec/de_novo.model\n"
     ]
    }
   ],
   "source": [
    "# train integer w2v \n",
    "from spec2vec.model_building import train_new_word2vec_model\n",
    "\n",
    "model_unique_file = f\"gas2vec/{kind}.model\"\n",
    "model_unique = train_new_word2vec_model(documents_train, iterations=list(range(0,103,2)), filename=model_unique_file,\n",
    "                               workers=32, progress_logger=True, learning_rate_initial=0.01)"
   ]
  },
  {
   "cell_type": "markdown",
   "metadata": {},
   "source": [
    "## Evaluation of models' quality\n",
    "To ensure which version of the model is the best, we compute the Tanimoto structural similarity of coumpounds in validation dataset and observe which checkpoint is most accurately predicting this similarity. \n",
    "\n",
    "We use the validation set of all dataset to test this."
   ]
  },
  {
   "cell_type": "code",
   "execution_count": 5,
   "metadata": {},
   "outputs": [],
   "source": [
    "# load val dataset\n",
    "spectrums_val = [spectrum_processing(s) for s in load_from_msp(data_val_path)]\n",
    "spectrums_val = [s for s in spectrums_val if s is not None]\n",
    "spectrums_val = get_n_samples(spectrums_val, 5000, 42)"
   ]
  },
  {
   "cell_type": "code",
   "execution_count": 10,
   "metadata": {},
   "outputs": [],
   "source": [
    "inchis = set()\n",
    "\n",
    "spectrums_new = []\n",
    "for s in spectrums_val:\n",
    "    inchi_pref = s.metadata[\"inchikey\"].split(\"-\")[0]\n",
    "    if inchi_pref in inchis:\n",
    "        continue\n",
    "    inchis.add(inchi_pref)\n",
    "    spectrums_new.append(s)"
   ]
  },
  {
   "cell_type": "code",
   "execution_count": 11,
   "metadata": {},
   "outputs": [
    {
     "data": {
      "text/plain": [
       "4789"
      ]
     },
     "execution_count": 11,
     "metadata": {},
     "output_type": "execute_result"
    }
   ],
   "source": [
    "len(spectrums_new)"
   ]
  },
  {
   "cell_type": "markdown",
   "metadata": {},
   "source": [
    "### Tanimoto similariry"
   ]
  },
  {
   "cell_type": "code",
   "execution_count": 12,
   "metadata": {},
   "outputs": [],
   "source": [
    "#%pip install rdkit-pypi\n",
    "\n",
    "from matchms import calculate_scores\n",
    "from matchms import Spectrum\n",
    "from matchms.filtering import add_fingerprint\n",
    "from matchms.similarity import FingerprintSimilarity\n",
    "\n",
    "def add_fingerprints_to_ds(ds):\n",
    "    specs = [add_fingerprint(rec, nbits=2048) for rec in ds]\n",
    "    return [s for s in specs if \"fingerprint\" in s.metadata]\n",
    "def get_tanimoto_scores(ds):\n",
    "    similarity_measure = FingerprintSimilarity(\"jaccard\")\n",
    "#     scores = calculate_scores(ds, ds, similarity_measure)\n",
    "#     print(np.round(scores.scores, 3))\n",
    "    return similarity_measure.matrix(ds, ds, is_symmetric=True)\n",
    "\n"
   ]
  },
  {
   "cell_type": "code",
   "execution_count": 13,
   "metadata": {},
   "outputs": [
    {
     "name": "stderr",
     "output_type": "stream",
     "text": [
      "RDKit ERROR: [21:04:58] SMILES Parse Error: syntax error while parsing: [Fe]|1|2|3|4(|N#CC(C#N|[Fe]|5|6(|N#CC(C#N|1)C(C#N)C#N)(|N#CC(C#N|2)C(C#N)C#N)|[PH+](CC(C)(C[PH+]|5(c7ccccc7)c8ccccc8)C[PH+]|6(c9ccccc9)c%10ccccc%10)(c%11ccccc%11)c%12ccccc%12)C(C#N)C#N)|[PH+](CC(C)(C[PH+]|3(c%13ccccc%13)c%14ccccc%14)C[PH+]|4(c%15ccccc%15)c%16ccccc%16)(c%17ccccc%17)c%18ccccc%18\n",
      "RDKit ERROR: [21:04:58] SMILES Parse Error: Failed parsing SMILES '[Fe]|1|2|3|4(|N#CC(C#N|[Fe]|5|6(|N#CC(C#N|1)C(C#N)C#N)(|N#CC(C#N|2)C(C#N)C#N)|[PH+](CC(C)(C[PH+]|5(c7ccccc7)c8ccccc8)C[PH+]|6(c9ccccc9)c%10ccccc%10)(c%11ccccc%11)c%12ccccc%12)C(C#N)C#N)|[PH+](CC(C)(C[PH+]|3(c%13ccccc%13)c%14ccccc%14)C[PH+]|4(c%15ccccc%15)c%16ccccc%16)(c%17ccccc%17)c%18ccccc%18' for input: '[Fe]|1|2|3|4(|N#CC(C#N|[Fe]|5|6(|N#CC(C#N|1)C(C#N)C#N)(|N#CC(C#N|2)C(C#N)C#N)|[PH+](CC(C)(C[PH+]|5(c7ccccc7)c8ccccc8)C[PH+]|6(c9ccccc9)c%10ccccc%10)(c%11ccccc%11)c%12ccccc%12)C(C#N)C#N)|[PH+](CC(C)(C[PH+]|3(c%13ccccc%13)c%14ccccc%14)C[PH+]|4(c%15ccccc%15)c%16ccccc%16)(c%17ccccc%17)c%18ccccc%18'\n",
      "RDKit WARNING: [21:05:08] Cannot assign bond directions!\n"
     ]
    }
   ],
   "source": [
    "spectrums_new = add_fingerprints_to_ds(spectrums_new)"
   ]
  },
  {
   "cell_type": "code",
   "execution_count": 14,
   "metadata": {},
   "outputs": [],
   "source": [
    "import os\n",
    "tanimoto_matrix_val = get_tanimoto_scores(spectrums_new)\n",
    "#os.makedirs(f\"gas2vec/similarity_{dataset}_val/{kind}\", exist_ok=True)\n",
    "#np.save(f\"gas2vec/similarity_{dataset}_val/{kind}/tanimoto_scores\", tanimoto_matrix_val)\n",
    "\n",
    "#tanimoto_matrix_val = np.load(f\"gas2vec/similarity_{dataset}_val/{kind}/tanimoto_scores.npy\")"
   ]
  },
  {
   "cell_type": "code",
   "execution_count": 15,
   "metadata": {},
   "outputs": [
    {
     "data": {
      "text/plain": [
       "0"
      ]
     },
     "execution_count": 15,
     "metadata": {},
     "output_type": "execute_result"
    }
   ],
   "source": [
    "len(tanimoto_matrix_val[tanimoto_matrix_val != np.nan_to_num(tanimoto_matrix_val)])\n",
    "#len(tanimoto_matrix_val.ravel())\n",
    "len(tanimoto_matrix_val[np.isnan(tanimoto_matrix_val)])"
   ]
  },
  {
   "cell_type": "code",
   "execution_count": 16,
   "metadata": {},
   "outputs": [
    {
     "data": {
      "text/plain": [
       "<AxesSubplot:>"
      ]
     },
     "execution_count": 16,
     "metadata": {},
     "output_type": "execute_result"
    },
    {
     "data": {
      "image/png": "[encoded data removed]",
      "text/plain": [
       "<Figure size 432x288 with 1 Axes>"
      ]
     },
     "metadata": {
      "needs_background": "light"
     },
     "output_type": "display_data"
    }
   ],
   "source": [
    "import pandas as pd\n",
    "pd.Series(tanimoto_matrix_val.ravel()).hist()"
   ]
  },
  {
   "cell_type": "markdown",
   "metadata": {},
   "source": [
    "### Similarity matrices lookalikeness\n",
    "we will use  MSE weighted by the tanimoto score to measure the performance of g2v similarity measure. We will add weight 0 to main diagonal.\n"
   ]
  },
  {
   "cell_type": "code",
   "execution_count": 31,
   "metadata": {},
   "outputs": [],
   "source": [
    "from sklearn.metrics import mean_squared_error\n",
    "\n",
    "def tanimoto_weighted_mse(m_ref, m_pred):\n",
    "    # get weights for mse\n",
    "    weights = m_ref - np.eye(*m_ref.shape)\n",
    "    \n",
    "    return mean_squared_error(m_ref.ravel(), m_pred.ravel(), sample_weight=weights.ravel())"
   ]
  },
  {
   "cell_type": "markdown",
   "metadata": {},
   "source": [
    "### Gas2Vec similarity"
   ]
  },
  {
   "cell_type": "code",
   "execution_count": 9,
   "metadata": {},
   "outputs": [
    {
     "name": "stdout",
     "output_type": "stream",
     "text": [
      "de_novo3_iter_1.model: mse: 0.021 wmse:0.025\n",
      "de_novo_iter_2.model: mse: 0.019 wmse:0.025\n",
      "de_novo2_iter_2.model: mse: 0.019 wmse:0.025\n",
      "de_novo3_iter_2.model: mse: 0.019 wmse:0.026\n",
      "de_novo3_iter_3.model: mse: 0.019 wmse:0.027\n",
      "de_novo_iter_4.model: mse: 0.019 wmse:0.028\n",
      "de_novo2_iter_4.model: mse: 0.019 wmse:0.028\n",
      "de_novo3_iter_4.model: mse: 0.020 wmse:0.029\n",
      "de_novo3_iter_5.model: mse: 0.019 wmse:0.028\n",
      "de_novo_iter_6.model: mse: 0.019 wmse:0.028\n",
      "de_novo2_iter_6.model: mse: 0.019 wmse:0.028\n",
      "de_novo3_iter_6.model: mse: 0.019 wmse:0.029\n",
      "de_novo3_iter_7.model: mse: 0.019 wmse:0.029\n",
      "de_novo2_iter_8.model: mse: 0.019 wmse:0.028\n",
      "de_novo3_iter_8.model: mse: 0.019 wmse:0.029\n",
      "de_novo_iter_8.model: mse: 0.020 wmse:0.028\n",
      "de_novo2_iter_10.model: mse: 0.019 wmse:0.028\n",
      "de_novo_iter_10.model: mse: 0.019 wmse:0.029\n",
      "de_novo_iter_12.model: mse: 0.019 wmse:0.028\n",
      "de_novo2_iter_12.model: mse: 0.019 wmse:0.028\n",
      "de_novo_iter_14.model: mse: 0.019 wmse:0.029\n",
      "de_novo2_iter_14.model: mse: 0.020 wmse:0.029\n",
      "de_novo_iter_16.model: mse: 0.019 wmse:0.029\n",
      "de_novo2_iter_16.model: mse: 0.019 wmse:0.030\n",
      "de_novo2_iter_18.model: mse: 0.019 wmse:0.029\n",
      "de_novo_iter_18.model: mse: 0.019 wmse:0.029\n",
      "de_novo2_iter_20.model: mse: 0.019 wmse:0.028\n",
      "de_novo_iter_20.model: mse: 0.019 wmse:0.029\n",
      "de_novo_iter_22.model: mse: 0.020 wmse:0.030\n",
      "de_novo2_iter_22.model: mse: 0.019 wmse:0.029\n",
      "de_novo_iter_24.model: mse: 0.019 wmse:0.029\n",
      "de_novo2_iter_24.model: mse: 0.019 wmse:0.029\n",
      "de_novo2_iter_26.model: mse: 0.019 wmse:0.029\n",
      "de_novo_iter_26.model: mse: 0.019 wmse:0.029\n",
      "de_novo2_iter_28.model: mse: 0.019 wmse:0.028\n",
      "de_novo_iter_28.model: mse: 0.019 wmse:0.029\n",
      "de_novo_iter_30.model: mse: 0.019 wmse:0.029\n",
      "de_novo2_iter_30.model: mse: 0.018 wmse:0.028\n",
      "de_novo2_iter_32.model: mse: 0.019 wmse:0.029\n",
      "de_novo_iter_32.model: mse: 0.019 wmse:0.029\n",
      "de_novo_iter_34.model: mse: 0.019 wmse:0.030\n",
      "de_novo2_iter_34.model: mse: 0.019 wmse:0.029\n",
      "de_novo2_iter_36.model: mse: 0.019 wmse:0.029\n",
      "de_novo_iter_36.model: mse: 0.020 wmse:0.031\n",
      "de_novo_iter_38.model: mse: 0.020 wmse:0.030\n",
      "de_novo2_iter_38.model: mse: 0.019 wmse:0.030\n",
      "de_novo2_iter_40.model: mse: 0.020 wmse:0.030\n",
      "de_novo_iter_40.model: mse: 0.020 wmse:0.031\n",
      "de_novo_iter_42.model: mse: 0.020 wmse:0.031\n",
      "de_novo2_iter_42.model: mse: 0.019 wmse:0.030\n",
      "de_novo_iter_44.model: mse: 0.020 wmse:0.032\n",
      "de_novo2_iter_44.model: mse: 0.019 wmse:0.029\n",
      "de_novo2_iter_46.model: mse: 0.020 wmse:0.030\n",
      "de_novo_iter_46.model: mse: 0.020 wmse:0.032\n",
      "de_novo2_iter_48.model: mse: 0.020 wmse:0.030\n",
      "de_novo_iter_48.model: mse: 0.020 wmse:0.032\n",
      "de_novo_iter_50.model: mse: 0.021 wmse:0.033\n",
      "de_novo2_iter_50.model: mse: 0.020 wmse:0.030\n",
      "de_novo_iter_52.model: mse: 0.021 wmse:0.033\n",
      "de_novo2_iter_52.model: mse: 0.020 wmse:0.030\n",
      "de_novo2_iter_54.model: mse: 0.019 wmse:0.030\n",
      "de_novo_iter_54.model: mse: 0.020 wmse:0.032\n",
      "de_novo2_iter_56.model: mse: 0.020 wmse:0.031\n",
      "de_novo_iter_56.model: mse: 0.021 wmse:0.033\n",
      "de_novo_iter_58.model: mse: 0.021 wmse:0.033\n",
      "de_novo2_iter_58.model: mse: 0.020 wmse:0.032\n",
      "de_novo_iter_60.model: mse: 0.020 wmse:0.032\n",
      "de_novo2_iter_60.model: mse: 0.020 wmse:0.031\n",
      "de_novo_iter_62.model: mse: 0.021 wmse:0.033\n",
      "de_novo2_iter_62.model: mse: 0.020 wmse:0.031\n",
      "de_novo_iter_64.model: mse: 0.021 wmse:0.033\n",
      "de_novo2_iter_64.model: mse: 0.020 wmse:0.032\n",
      "de_novo2_iter_66.model: mse: 0.020 wmse:0.032\n",
      "de_novo_iter_66.model: mse: 0.020 wmse:0.033\n",
      "de_novo2_iter_68.model: mse: 0.020 wmse:0.032\n",
      "de_novo_iter_68.model: mse: 0.020 wmse:0.032\n",
      "de_novo_iter_70.model: mse: 0.020 wmse:0.032\n",
      "de_novo2_iter_70.model: mse: 0.021 wmse:0.033\n",
      "de_novo2_iter_72.model: mse: 0.020 wmse:0.032\n",
      "de_novo_iter_72.model: mse: 0.020 wmse:0.032\n",
      "de_novo_iter_74.model: mse: 0.020 wmse:0.031\n",
      "de_novo2_iter_74.model: mse: 0.021 wmse:0.033\n",
      "de_novo_iter_76.model: mse: 0.020 wmse:0.032\n",
      "de_novo2_iter_76.model: mse: 0.021 wmse:0.033\n",
      "de_novo_iter_78.model: mse: 0.020 wmse:0.031\n",
      "de_novo2_iter_78.model: mse: 0.021 wmse:0.033\n",
      "de_novo2_iter_80.model: mse: 0.021 wmse:0.034\n",
      "de_novo_iter_80.model: mse: 0.020 wmse:0.031\n",
      "de_novo2_iter_82.model: mse: 0.021 wmse:0.034\n",
      "de_novo_iter_82.model: mse: 0.020 wmse:0.032\n",
      "de_novo_iter_84.model: mse: 0.020 wmse:0.032\n",
      "de_novo2_iter_84.model: mse: 0.021 wmse:0.033\n",
      "de_novo2_iter_86.model: mse: 0.021 wmse:0.034\n",
      "de_novo_iter_86.model: mse: 0.020 wmse:0.031\n",
      "de_novo_iter_88.model: mse: 0.021 wmse:0.034\n",
      "de_novo2_iter_88.model: mse: 0.021 wmse:0.033\n",
      "de_novo_iter_90.model: mse: 0.021 wmse:0.034\n",
      "de_novo2_iter_90.model: mse: 0.021 wmse:0.034\n",
      "de_novo_iter_92.model: mse: 0.020 wmse:0.031\n",
      "de_novo2_iter_92.model: mse: 0.021 wmse:0.034\n",
      "de_novo_iter_94.model: mse: 0.019 wmse:0.029\n",
      "de_novo2_iter_94.model: mse: 0.021 wmse:0.034\n",
      "de_novo_iter_96.model: mse: 0.018 wmse:0.028\n",
      "de_novo2_iter_96.model: mse: 0.021 wmse:0.033\n",
      "de_novo_iter_98.model: mse: 0.020 wmse:0.031\n",
      "de_novo2_iter_98.model: mse: 0.021 wmse:0.033\n",
      "de_novo2_iter_100.model: mse: 0.021 wmse:0.033\n",
      "de_novo_iter_100.model: mse: 0.019 wmse:0.030\n",
      "de_novo2_iter_102.model: mse: 0.020 wmse:0.032\n",
      "de_novo2_iter_104.model: mse: 0.020 wmse:0.033\n",
      "de_novo2_iter_106.model: mse: 0.020 wmse:0.032\n",
      "de_novo2_iter_108.model: mse: 0.020 wmse:0.033\n",
      "de_novo2_iter_110.model: mse: 0.020 wmse:0.033\n",
      "de_novo2_iter_112.model: mse: 0.020 wmse:0.033\n",
      "de_novo2_iter_114.model: mse: 0.020 wmse:0.032\n",
      "de_novo2_iter_116.model: mse: 0.021 wmse:0.033\n",
      "de_novo2_iter_118.model: mse: 0.021 wmse:0.033\n",
      "de_novo2_iter_120.model: mse: 0.021 wmse:0.033\n",
      "de_novo2_iter_122.model: mse: 0.021 wmse:0.033\n",
      "de_novo2_iter_124.model: mse: 0.021 wmse:0.033\n",
      "de_novo2_iter_126.model: mse: 0.021 wmse:0.033\n",
      "de_novo2_iter_128.model: mse: 0.021 wmse:0.033\n",
      "de_novo2_iter_130.model: mse: 0.022 wmse:0.034\n",
      "de_novo2_iter_132.model: mse: 0.022 wmse:0.035\n",
      "de_novo2_iter_134.model: mse: 0.022 wmse:0.035\n",
      "de_novo2_iter_136.model: mse: 0.022 wmse:0.034\n",
      "de_novo2_iter_138.model: mse: 0.020 wmse:0.032\n",
      "de_novo2_iter_140.model: mse: 0.020 wmse:0.031\n",
      "de_novo2_iter_142.model: mse: 0.019 wmse:0.030\n",
      "de_novo2_iter_144.model: mse: 0.020 wmse:0.031\n",
      "de_novo2_iter_146.model: mse: 0.021 wmse:0.033\n",
      "de_novo2_iter_148.model: mse: 0.021 wmse:0.033\n",
      "de_novo2_iter_150.model: mse: 0.021 wmse:0.032\n",
      "de_novo2.model: mse: 0.021 wmse:0.031\n",
      "de_novo.model: mse: 0.020 wmse:0.030\n",
      "de_novo3.model: mse: 0.019 wmse:0.029\n"
     ]
    }
   ],
   "source": [
    "def get_best_ckpt(folder, model_base_file, spectrums_val, tanimoto_matrix_val):\n",
    "    min_mse = None\n",
    "    best_ckpt = None\n",
    "    ckpt_to_mse = dict()\n",
    "    ckpt_to_wmse = dict()\n",
    "    ckpt_to_tmse = dict()\n",
    "    \n",
    "    def get_it(x):\n",
    "        if \"iter\" not in x:\n",
    "            return 1000\n",
    "        return int(x.split(\".\")[0].split(\"_\")[-1])\n",
    "    \n",
    "    for root, dirs, files in os.walk(folder):\n",
    "        for ckpt in sorted([file for file in files if model_base_file.split(\".\")[0] in file], key=get_it):\n",
    "            #print(ckpt)\n",
    "            #continue\n",
    "            w2v = Word2Vec.load(f\"{folder}/{ckpt}\") \n",
    "            \n",
    "            gas2vec_similarity = Spec2Vec(model=w2v, intensity_weighting_power=0.5,\n",
    "                               allowed_missing_percentage=15.0)\n",
    "            \n",
    "            gas2vec_matrix_val = gas2vec_similarity.matrix(spectrums_val, spectrums_val, is_symmetric=True)\n",
    "            \n",
    "            mse = mean_squared_error(tanimoto_matrix_val.ravel(), gas2vec_matrix_val.ravel())\n",
    "            weighted_mse = tanimoto_weighted_mse(tanimoto_matrix_val, gas2vec_matrix_val)\n",
    "            \n",
    "            \n",
    "            print(f\"{ckpt}: mse: {mse:.3f} wmse:{weighted_mse:.3f}\") #, tmse:{perc_mse:.3f}\")\n",
    "            ckpt_to_mse[ckpt] = mse\n",
    "            ckpt_to_wmse[ckpt] = weighted_mse\n",
    "           # ckpt_to_tmse[ckpt] = perc_mse\n",
    "            \n",
    "            if min_mse is None or weighted_mse < min_mse:\n",
    "                min_mse = weighted_mse\n",
    "                best_ckpt = ckpt\n",
    "                \n",
    "        return best_ckpt, min_mse, ckpt_to_mse, ckpt_to_wmse#, ckpt_to_tmse\n",
    "selected = \"\"\n",
    "best_ckpt_unique, min_mse_unique, ckpt_to_mse_unique, ckpt_to_wmse_unique = get_best_ckpt(\"gas2vec\", f\"{kind}{selected}.model\", spectrums_new, tanimoto_matrix_val)\n",
    "#best_ckpt_all, min_mse_all, ckpt_to_mse_all, ckpt_to_wmse_all = get_best_ckpt(\"gas2vec\", \"all.model\", spectrums_val, tanimoto_matrix_val)"
   ]
  },
  {
   "cell_type": "code",
   "execution_count": 10,
   "metadata": {},
   "outputs": [
    {
     "data": {
      "text/plain": [
       "[('de_novo_iter_96.model', 0.017911957983847933),\n",
       " ('de_novo2_iter_30.model', 0.01843620321972949),\n",
       " ('de_novo2_iter_2.model', 0.018664505480790357),\n",
       " ('de_novo3_iter_3.model', 0.018673059049269358),\n",
       " ('de_novo2_iter_28.model', 0.018709854175770608),\n",
       " ('de_novo_iter_2.model', 0.01873840758398107),\n",
       " ('de_novo2_iter_10.model', 0.018780889748799906),\n",
       " ('de_novo2_iter_36.model', 0.018789699196333276),\n",
       " ('de_novo_iter_94.model', 0.018841171709697273),\n",
       " ('de_novo2_iter_4.model', 0.018886032652384657)]"
      ]
     },
     "execution_count": 10,
     "metadata": {},
     "output_type": "execute_result"
    }
   ],
   "source": [
    "sorted(ckpt_to_mse_unique.items(), key=lambda x: x[1])[:10]"
   ]
  },
  {
   "cell_type": "code",
   "execution_count": 11,
   "metadata": {},
   "outputs": [
    {
     "data": {
      "text/plain": [
       "[('de_novo3_iter_1.model', 0.02463905271988058),\n",
       " ('de_novo_iter_2.model', 0.025195820902498632),\n",
       " ('de_novo2_iter_2.model', 0.025395904959627194),\n",
       " ('de_novo3_iter_2.model', 0.026443025243549398),\n",
       " ('de_novo3_iter_3.model', 0.02727660382646991),\n",
       " ('de_novo3_iter_5.model', 0.027558777114560326),\n",
       " ('de_novo_iter_6.model', 0.02764763556589186),\n",
       " ('de_novo_iter_96.model', 0.027824580556257552),\n",
       " ('de_novo2_iter_4.model', 0.027968994244896503),\n",
       " ('de_novo_iter_4.model', 0.02801088453266155)]"
      ]
     },
     "execution_count": 11,
     "metadata": {},
     "output_type": "execute_result"
    }
   ],
   "source": [
    "sorted(ckpt_to_wmse_unique.items(), key=lambda x: x[1])[:10]"
   ]
  },
  {
   "cell_type": "code",
   "execution_count": 12,
   "metadata": {},
   "outputs": [
    {
     "name": "stderr",
     "output_type": "stream",
     "text": [
      "The PostScript backend does not support transparency; partially transparent artists will be rendered opaque.\n",
      "The PostScript backend does not support transparency; partially transparent artists will be rendered opaque.\n",
      "The PostScript backend does not support transparency; partially transparent artists will be rendered opaque.\n",
      "The PostScript backend does not support transparency; partially transparent artists will be rendered opaque.\n",
      "The PostScript backend does not support transparency; partially transparent artists will be rendered opaque.\n",
      "The PostScript backend does not support transparency; partially transparent artists will be rendered opaque.\n",
      "The PostScript backend does not support transparency; partially transparent artists will be rendered opaque.\n",
      "The PostScript backend does not support transparency; partially transparent artists will be rendered opaque.\n",
      "The PostScript backend does not support transparency; partially transparent artists will be rendered opaque.\n",
      "The PostScript backend does not support transparency; partially transparent artists will be rendered opaque.\n",
      "The PostScript backend does not support transparency; partially transparent artists will be rendered opaque.\n",
      "The PostScript backend does not support transparency; partially transparent artists will be rendered opaque.\n",
      "The PostScript backend does not support transparency; partially transparent artists will be rendered opaque.\n",
      "The PostScript backend does not support transparency; partially transparent artists will be rendered opaque.\n",
      "The PostScript backend does not support transparency; partially transparent artists will be rendered opaque.\n",
      "The PostScript backend does not support transparency; partially transparent artists will be rendered opaque.\n",
      "The PostScript backend does not support transparency; partially transparent artists will be rendered opaque.\n",
      "The PostScript backend does not support transparency; partially transparent artists will be rendered opaque.\n",
      "The PostScript backend does not support transparency; partially transparent artists will be rendered opaque.\n",
      "The PostScript backend does not support transparency; partially transparent artists will be rendered opaque.\n",
      "The PostScript backend does not support transparency; partially transparent artists will be rendered opaque.\n",
      "The PostScript backend does not support transparency; partially transparent artists will be rendered opaque.\n"
     ]
    },
    {
     "data": {
      "text/plain": [
       "Text(0.5, 1.0, 'Gas2Vec')"
      ]
     },
     "execution_count": 12,
     "metadata": {},
     "output_type": "execute_result"
    },
    {
     "data": {
      "image/png": "[encoded data removed]",
      "text/plain": [
       "<Figure size 432x288 with 1 Axes>"
      ]
     },
     "metadata": {
      "needs_background": "light"
     },
     "output_type": "display_data"
    }
   ],
   "source": [
    "import seaborn as sns\n",
    "import matplotlib.pyplot as plt\n",
    "\n",
    "# learning curve\n",
    "def get_epochs(keyval):\n",
    "    name, val = keyval\n",
    "    splitted = name.split(\"_\")\n",
    "    if \"iter\" not in name:\n",
    "        return 153\n",
    "    else:\n",
    "        return int(splitted[-1].split(\".\")[0])\n",
    "\n",
    "def plot_err(dic, ax=None, label=None):\n",
    "    itms = dic.items()\n",
    "    mses = [it[1] for it in itms]\n",
    "    epochs = [*map(get_epochs, itms)]\n",
    "    return sns.lineplot(x=epochs, y=mses, ax=ax, label=label)\n",
    "\n",
    "ax = plot_err(ckpt_to_mse_unique, label=\"mse\")\n",
    "plot_err(ckpt_to_wmse_unique, ax=ax, label=\"wmse\")\n",
    "#plot_err(ckpt_to_tmse_unique, ax=ax, label= \"tmse\")\n",
    "plt.savefig(f\"gas2vec/figures/{kind}/{selected}t.eps\")\n",
    "plt.savefig(f\"gas2vec/figures/{kind}/{selected}t.pdf\")\n",
    "ax.set_title(\"Gas2Vec\")\n"
   ]
  },
  {
   "cell_type": "code",
   "execution_count": 13,
   "metadata": {},
   "outputs": [
    {
     "data": {
      "text/plain": [
       "'de_novo3_iter_1.model'"
      ]
     },
     "execution_count": 13,
     "metadata": {},
     "output_type": "execute_result"
    }
   ],
   "source": [
    "best_ckpt_unique"
   ]
  },
  {
   "cell_type": "markdown",
   "metadata": {},
   "source": [
    "## Load and inspect the best models"
   ]
  },
  {
   "cell_type": "code",
   "execution_count": null,
   "metadata": {},
   "outputs": [],
   "source": [
    "#best_ckpt_unique = 'unique_iter_78.model'\n",
    "#best_ckpt_unique = \"in_database.model\""
   ]
  },
  {
   "cell_type": "code",
   "execution_count": 20,
   "metadata": {},
   "outputs": [],
   "source": [
    "# load the models\n",
    "# w2v_unique = Word2Vec.load(f\"gas2vec/{best_ckpt_unique}\")    \n",
    "#w2v_all = Word2Vec.load(f\"gas2vec/{best_ckpt_all}\")   \n",
    "w2v_unique = Word2Vec.load(f\"gas2vec/{kind}.model\")"
   ]
  },
  {
   "cell_type": "markdown",
   "metadata": {},
   "source": [
    "## Evaluating the quality of peaks and spectral embeddings\n",
    "Now we need to evaluate the peaks/spectral embeddings obtained by Spec2Vec.\n",
    "\n",
    "Considering our usecases, we need to evaluate both peak (word) embeddings and spectral embeddings. \n",
    "\n",
    "**Peak embeddings evaluation**\n",
    "\n",
    "Possible aproaches:\n",
    "* Create LM on top of our peak embeddings, observe\n",
    "\n",
    "\n",
    "**Spectral embeddings evaluation**\n",
    "\n",
    "Possible aproaches: \n",
    "\n",
    "* Quantitative:\n",
    "    * Design a similarity task (TANIMOTO )"
   ]
  },
  {
   "cell_type": "markdown",
   "metadata": {},
   "source": [
    "## Create a spectral embedding "
   ]
  },
  {
   "cell_type": "code",
   "execution_count": 21,
   "metadata": {},
   "outputs": [],
   "source": [
    "from spec2vec import Spec2Vec\n",
    "# Define similarity_function\n",
    "gas2vec_similarity = Spec2Vec(model=w2v_unique, intensity_weighting_power=0.5, allowed_missing_percentage=15.0)"
   ]
  },
  {
   "cell_type": "markdown",
   "metadata": {},
   "source": [
    "## Quantitative evaluation \n",
    "Evaluation based on comparison of somewhat \"structural\" TANIMOTO similarity (Jaccard on fingerprints) with Gas2Vec similarity and conventional cosine similarity. Same approach was used in original Spec2Vec paper. (modcos skipped due to its reliance on the precurosor that is available only in MS2)"
   ]
  },
  {
   "cell_type": "code",
   "execution_count": 22,
   "metadata": {},
   "outputs": [
    {
     "name": "stderr",
     "output_type": "stream",
     "text": [
      "RDKit ERROR: [21:08:31] SMILES Parse Error: syntax error while parsing: OC(=O)[C-]1|2C|3=C|4C|5=C1|[Fe]6789|2|3|4|5[CH-]%10[CH-]6[CH-]7[CH-]8[CH-]9%10\n",
      "RDKit ERROR: [21:08:31] SMILES Parse Error: Failed parsing SMILES 'OC(=O)[C-]1|2C|3=C|4C|5=C1|[Fe]6789|2|3|4|5[CH-]%10[CH-]6[CH-]7[CH-]8[CH-]9%10' for input: 'OC(=O)[C-]1|2C|3=C|4C|5=C1|[Fe]6789|2|3|4|5[CH-]%10[CH-]6[CH-]7[CH-]8[CH-]9%10'\n"
     ]
    }
   ],
   "source": [
    "spectrums_test = [spectrum_processing(s, min_rel_int=None) for s in load_from_msp(data_test_path)]\n",
    "spectrums_test = [s for s in spectrums_test if s is not None]\n",
    "spectrums_test = get_n_samples(spectrums_test, 5000)\n",
    "spectrums_test = add_fingerprints_to_ds(spectrums_test)"
   ]
  },
  {
   "cell_type": "code",
   "execution_count": 23,
   "metadata": {},
   "outputs": [],
   "source": [
    "inchis = set()\n",
    "\n",
    "spectrums_new = []\n",
    "for s in spectrums_test:\n",
    "    inchi_pref = s.metadata[\"inchikey\"].split(\"-\")[0]\n",
    "    if inchi_pref in inchis:\n",
    "        continue\n",
    "    inchis.add(inchi_pref)\n",
    "    spectrums_new.append(s)\n",
    "    \n",
    "spectrums_test=spectrums_new"
   ]
  },
  {
   "cell_type": "markdown",
   "metadata": {},
   "source": [
    "### Tanimoto score"
   ]
  },
  {
   "cell_type": "code",
   "execution_count": 24,
   "metadata": {},
   "outputs": [],
   "source": [
    "tanimoto_matrix = get_tanimoto_scores(spectrums_test)"
   ]
  },
  {
   "cell_type": "markdown",
   "metadata": {},
   "source": [
    "### Modified cosine score \n",
    "Moreless conventional similarity on peaks used as a baseline. (see Spec2vec paper for author)\n",
    "\n",
    "IMPOSSIBLE TO USE BEACUSE OF MISSING PRECURSOR MZ!!"
   ]
  },
  {
   "cell_type": "code",
   "execution_count": 25,
   "metadata": {},
   "outputs": [],
   "source": [
    "# from matchms.similarity import ModifiedCosine\n",
    "# # same tolerance as in spec2vec paper\n",
    "# modcos_similarity = ModifiedCosine(tolerance=0.005)\n",
    "\n",
    "# modcos_scores = calculate_scores(spectrums, spectrums, modcos_similarity)"
   ]
  },
  {
   "cell_type": "markdown",
   "metadata": {},
   "source": [
    "### Cosine score \n",
    "Conventional similarity on peaks used as a baseline. "
   ]
  },
  {
   "cell_type": "code",
   "execution_count": 26,
   "metadata": {},
   "outputs": [],
   "source": [
    "from matchms.similarity import CosineGreedy\n",
    "\n",
    "def cosine_sim(spectrums_test):\n",
    "    # same tolerance as in spec2vec paper\n",
    "    cosine_similarity = CosineGreedy(tolerance=0.005)\n",
    "\n",
    "    cosine_pairs = cosine_similarity.matrix(spectrums_test, spectrums_test, is_symmetric=True)\n",
    "\n",
    "    # divide into similarity and matches\n",
    "\n",
    "    cosine_matrix = np.zeros_like(cosine_pairs, dtype=float)\n",
    "    cosine_matches = np.zeros_like(cosine_matrix, dtype=int)\n",
    "    for i in range(cosine_pairs.shape[0]):\n",
    "        for j in range(cosine_pairs.shape[1]):\n",
    "            cosine_matrix[i][j] = cosine_pairs[i][j][0]\n",
    "            cosine_matches[i][j] = cosine_pairs[i][j][1]\n",
    "            \n",
    "    return cosine_matrix, cosine_matches\n",
    "\n",
    "cosine_matrix, cosine_matches = cosine_sim(spectrums_test)\n",
    "#cosine_matrix = np.load(f\"gas2vec/similarity_{dataset}/cos_scores.npy\")\n",
    "#cosine_matches = np.load(f\"gas2vec/similarity_{dataset}/cos_matches_scores.npy\")"
   ]
  },
  {
   "cell_type": "markdown",
   "metadata": {},
   "source": [
    "### Weighted cosine score \n",
    "Conventional similarity on peaks used as a baseline. "
   ]
  },
  {
   "cell_type": "code",
   "execution_count": 27,
   "metadata": {},
   "outputs": [],
   "source": [
    "from matchms.similarity import CosineGreedy\n",
    "\n",
    "def wcosine_sim(spectrums_test):\n",
    "    # same tolerance as in spec2vec paper\n",
    "    cosine_similarity = CosineGreedy(tolerance=0.005, mz_power=1, intensity_power=0.5)\n",
    "\n",
    "    cosine_pairs = cosine_similarity.matrix(spectrums_test, spectrums_test, is_symmetric=True)\n",
    "\n",
    "    # divide into similarity and matches\n",
    "\n",
    "    cosine_matrix = np.zeros_like(cosine_pairs, dtype=float)\n",
    "    cosine_matches = np.zeros_like(cosine_matrix, dtype=int)\n",
    "    for i in range(cosine_pairs.shape[0]):\n",
    "        for j in range(cosine_pairs.shape[1]):\n",
    "            cosine_matrix[i][j] = cosine_pairs[i][j][0]\n",
    "            cosine_matches[i][j] = cosine_pairs[i][j][1]\n",
    "            \n",
    "    return cosine_matrix, cosine_matches\n",
    "\n",
    "wcosine_matrix, wcosine_matches = wcosine_sim(spectrums_test)\n",
    "#cosine_matrix = np.load(f\"gas2vec/similarity_{dataset}/cos_scores.npy\")\n",
    "#cosine_matches = np.load(f\"gas2vec/similarity_{dataset}/cos_matches_scores.npy\")"
   ]
  },
  {
   "cell_type": "markdown",
   "metadata": {},
   "source": [
    "### Gas2Vec unique score"
   ]
  },
  {
   "cell_type": "code",
   "execution_count": 28,
   "metadata": {},
   "outputs": [],
   "source": [
    "gas2vec_matrix = gas2vec_similarity.matrix(spectrums_test, spectrums_test, is_symmetric=True)"
   ]
  },
  {
   "cell_type": "markdown",
   "metadata": {},
   "source": [
    "### Gas2Vec all score"
   ]
  },
  {
   "cell_type": "code",
   "execution_count": 29,
   "metadata": {},
   "outputs": [],
   "source": [
    "# gas2vec_all_matrix = gas2vec_similarity_all.matrix(spectrums_test, spectrums_test, is_symmetric=True)"
   ]
  },
  {
   "cell_type": "markdown",
   "metadata": {},
   "source": [
    "### MSE cosine vs gas2vec"
   ]
  },
  {
   "cell_type": "code",
   "execution_count": 32,
   "metadata": {},
   "outputs": [],
   "source": [
    "mse_g2v = mean_squared_error(gas2vec_matrix, tanimoto_matrix)\n",
    "# mse_g2v_all = mean_squared_error(gas2vec_all_matrix, tanimoto_matrix)\n",
    "mse_cos = mean_squared_error(cosine_matrix, tanimoto_matrix)\n",
    "mse_wcos = mean_squared_error(wcosine_matrix, tanimoto_matrix)"
   ]
  },
  {
   "cell_type": "code",
   "execution_count": 33,
   "metadata": {},
   "outputs": [
    {
     "name": "stdout",
     "output_type": "stream",
     "text": [
      "Gas2Vec unique MSE:  0.020938613963006156\n",
      "Cosine MSE:  0.017749087904999034\n",
      "wCosine MSE:  0.01592286463304963\n"
     ]
    }
   ],
   "source": [
    "print(\"Gas2Vec unique MSE: \", mse_g2v)\n",
    "print(\"Cosine MSE: \", mse_cos)\n",
    "print(\"wCosine MSE: \", mse_wcos)"
   ]
  },
  {
   "cell_type": "code",
   "execution_count": 34,
   "metadata": {},
   "outputs": [],
   "source": [
    "wmse_g2v = tanimoto_weighted_mse(gas2vec_matrix, tanimoto_matrix)\n",
    "# wmse_g2v_all = tanimoto_weighted_mse(gas2vec_all_matrix, tanimoto_matrix)\n",
    "wmse_cos = tanimoto_weighted_mse(cosine_matrix, tanimoto_matrix)\n",
    "wmse_wcos = tanimoto_weighted_mse(wcosine_matrix, tanimoto_matrix)"
   ]
  },
  {
   "cell_type": "code",
   "execution_count": 35,
   "metadata": {},
   "outputs": [
    {
     "name": "stdout",
     "output_type": "stream",
     "text": [
      "Gas2Vec unique wMSE:  0.03216595975218862\n",
      "Cosine wMSE:  0.04215271188982673\n",
      "wCosine wMSE:  0.02823057025981113\n"
     ]
    }
   ],
   "source": [
    "print(\"Gas2Vec unique wMSE: \", wmse_g2v)\n",
    "print(\"Cosine wMSE: \", wmse_cos)\n",
    "print(\"wCosine wMSE: \", wmse_wcos)"
   ]
  },
  {
   "cell_type": "markdown",
   "metadata": {},
   "source": [
    "### Final comparison\n",
    "Let's avoid reinvetning the wheel and use slightly modified notebooks provided by authors of Spec2Vec for comparison of above computed method. \n",
    "\n",
    "We save the similarities in form of numpy file matrices to load them in those notebooks. \n",
    "\n",
    "For the final comparison we use spec2vec-score_comparison.ipynb and spec2vec-score_comparison2.ipynb. (supplied on demand)"
   ]
  },
  {
   "cell_type": "code",
   "execution_count": 36,
   "metadata": {
    "pycharm": {
     "name": "#%%\n"
    }
   },
   "outputs": [],
   "source": [
    "import os\n",
    "\n",
    "os.makedirs(f\"gas2vec/similarity_{dataset}/{kind}\", exist_ok=True)\n",
    "\n",
    "scores = [tanimoto_matrix, gas2vec_matrix, cosine_matrix, cosine_matches, wcosine_matrix, wcosine_matches ]\n",
    "descriptions = [\"tani\", \"g2v\", \"cos\", \"cos_match\", \"wcos\", \"wcos_match\"]\n",
    "\n",
    "for score_matrix, scores_name in zip(scores, descriptions):\n",
    "    np.save(f\"gas2vec/similarity_{dataset}/{kind}/{scores_name}_scores\", score_matrix)"
   ]
  }
 ],
 "metadata": {
  "kernelspec": {
   "display_name": "Python 3",
   "language": "python",
   "name": "python3"
  },
  "language_info": {
   "codemirror_mode": {
    "name": "ipython",
    "version": 3
   },
   "file_extension": ".py",
   "mimetype": "text/x-python",
   "name": "python",
   "nbconvert_exporter": "python",
   "pygments_lexer": "ipython3",
   "version": "3.8.10"
  }
 },
 "nbformat": 4,
 "nbformat_minor": 4
}