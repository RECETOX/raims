{
 "cells": [
  {
   "cell_type": "markdown",
   "metadata": {},
   "source": [
    "# Visual \n",
    "Visualised spectra and predictions"
   ]
  },
  {
   "cell_type": "code",
   "execution_count": 2,
   "metadata": {},
   "outputs": [],
   "source": [
    "base = \"data\"\n",
    "dataset = \"nist\"\n",
    "kind = \"in_database\"\n",
    "\n",
    "data_train_path =f\"{base}/{dataset}/{kind}/train.msp\"\n",
    "data_val_path =f\"{base}/{dataset}/{kind}/val.msp\"\n",
    "data_test_path =f\"{base}/{dataset}/{kind}/test.msp\"\n",
    "\n",
    "max_mz = 1001\n",
    "probs = [0, .05, .1, .15, .2, .25, .3, .35, .4, .45, .5]\n",
    "\n",
    "%load_ext autoreload\n",
    "%autoreload 2"
   ]
  },
  {
   "cell_type": "code",
   "execution_count": 3,
   "metadata": {},
   "outputs": [],
   "source": [
    "from matchms.importing import load_from_msp\n",
    "from data_utils import spectrum_processing, get_n_samples, FixedSizeDS\n",
    "from helpers import get_mz_vector, get_his_size\n",
    "import numpy as np\n",
    "from scipy.sparse import csr_matrix\n",
    "from visual_utils import plot_spectrum_sample_prediction\n",
    "\n",
    "# only for visual \n",
    "from spec2vec import SpectrumDocument\n",
    "from data_utils import BasicCoder"
   ]
  },
  {
   "cell_type": "code",
   "execution_count": 4,
   "metadata": {},
   "outputs": [],
   "source": [
    "def get_spectra(path):\n",
    "    # Load data from MSP file and apply filters\n",
    "    spectrums = [spectrum_processing(s, min_rel_int=None) for s in load_from_msp(path)]\n",
    "    # Omit spectrums that didn't qualify for analysis\n",
    "    spectrums = [s for s in spectrums if s is not None]\n",
    "    # Create spectrum documents\n",
    "    return spectrums\n",
    "spectrums_train = get_spectra(data_train_path)\n",
    "spectrums_val = get_spectra(data_val_path)\n",
    "spectrums_test = get_spectra(data_test_path)"
   ]
  },
  {
   "cell_type": "code",
   "execution_count": null,
   "metadata": {},
   "outputs": [],
   "source": [
    "documents_test = [SpectrumDocument(s, n_decimals=0) for s in spectrums_test]"
   ]
  },
  {
   "cell_type": "code",
   "execution_count": 6,
   "metadata": {},
   "outputs": [],
   "source": [
    "datasets_indb = {\n",
    "    \"spec_train\": spectrums_train, \n",
    "    \"spec_val\": spectrums_val, \n",
    "    \"spec_val_5000\": get_n_samples(spectrums_val, 5000),\n",
    "    \"spec_val_10000\": get_n_samples(spectrums_val, 10000),\n",
    "    \"spec_test\": spectrums_test, \n",
    "    \"fixed_test\": FixedSizeDS(spectrums_test)\n",
    "}\n"
   ]
  },
  {
   "cell_type": "code",
   "execution_count": 7,
   "metadata": {},
   "outputs": [
    {
     "name": "stdout",
     "output_type": "stream",
     "text": [
      "The autoreload extension is already loaded. To reload it, use:\n",
      "  %reload_ext autoreload\n"
     ]
    }
   ],
   "source": [
    "base = \"data\"\n",
    "dataset = \"nist\"\n",
    "kind = \"de_novo\"\n",
    "\n",
    "data_train_path =f\"{base}/{dataset}/{kind}/train.msp\"\n",
    "data_val_path =f\"{base}/{dataset}/{kind}/val.msp\"\n",
    "data_test_path =f\"{base}/{dataset}/{kind}/test.msp\"\n",
    "\n",
    "max_mz = 1001\n",
    "\n",
    "%load_ext autoreload\n",
    "%autoreload 2"
   ]
  },
  {
   "cell_type": "code",
   "execution_count": 8,
   "metadata": {},
   "outputs": [],
   "source": [
    "spectrums_train = get_spectra(data_train_path)\n",
    "spectrums_val = get_spectra(data_val_path)\n",
    "spectrums_test = get_spectra(data_test_path)"
   ]
  },
  {
   "cell_type": "code",
   "execution_count": 9,
   "metadata": {},
   "outputs": [],
   "source": [
    "documents_test = [SpectrumDocument(s, n_decimals=0) for s in spectrums_test]"
   ]
  },
  {
   "cell_type": "code",
   "execution_count": 10,
   "metadata": {},
   "outputs": [],
   "source": [
    "datasets_denovo = {\n",
    "    \"spec_train\": spectrums_train, \n",
    "    \"spec_val\": spectrums_val, \n",
    "    \"spec_val_5000\": get_n_samples(spectrums_val, 5000),\n",
    "    \"spec_val_10000\": get_n_samples(spectrums_val, 10000),\n",
    "    \"spec_test\": spectrums_test, \n",
    "    \"fixed_test\": FixedSizeDS(spectrums_test)\n",
    "}\n"
   ]
  },
  {
   "cell_type": "markdown",
   "metadata": {},
   "source": [
    "# To mz"
   ]
  },
  {
   "cell_type": "code",
   "execution_count": 11,
   "metadata": {},
   "outputs": [],
   "source": [
    "from gensim.models import Word2Vec\n",
    "from model_evaluation import model_selection, model_selection_random\n",
    "wv_path_indb = f\"gas2vec/in_database.model\"\n",
    "wv_path_dn = f\"gas2vec/de_novo.model\"\n",
    "\n",
    "\n",
    "w2v_indb = Word2Vec.load(wv_path_indb)\n",
    "w2v_dn = Word2Vec.load(wv_path_dn)"
   ]
  },
  {
   "cell_type": "code",
   "execution_count": 12,
   "metadata": {},
   "outputs": [],
   "source": [
    "def ids_to_mz(xs, i2e):\n",
    "    res = []\n",
    "    for x in xs:\n",
    "        res.append(int(i2e[int(x)].split(\"@\")[-1]))\n",
    "    return np.array(res)"
   ]
  },
  {
   "cell_type": "markdown",
   "metadata": {},
   "source": [
    "## In database\n"
   ]
  },
  {
   "cell_type": "code",
   "execution_count": 13,
   "metadata": {},
   "outputs": [
    {
     "name": "stdout",
     "output_type": "stream",
     "text": [
      "gpt2_ns_auto\n",
      "Possible k up to 30, predict up to 20 peaks\n",
      "Selected up to k=30, l=4, j=6\n",
      "Selected up to k=30, l=None, to_rel_inten=0.2\n",
      "[21122 22328 22520 22555 22561 22559 22562 22562 22563 22530 22501 22451\n",
      " 22407 22354 22277 22205 22122 22016 21919 21799 21656 21519 21381 21214\n",
      " 21040 20846 20638 20437 20264 20044]\n"
     ]
    }
   ],
   "source": [
    "i2e = w2v_indb.wv.index2entity\n",
    "_, scores_gpt = model_selection(\"predictions/in_database\", \"hugg_test\", kw=\"gpt2\", up_to_k=30, \\\n",
    "                                      l=4, j=6, to_rel_inten=.2, l_rel=None, return_details=True)"
   ]
  },
  {
   "cell_type": "code",
   "execution_count": 14,
   "metadata": {},
   "outputs": [],
   "source": [
    "preds, ys = scores_gpt[\"gpt2_ns_auto\"][\"dets\"][\"all\"].values()"
   ]
  },
  {
   "cell_type": "code",
   "execution_count": 19,
   "metadata": {},
   "outputs": [],
   "source": [
    "def plot_beauty(ds, i, k, preds, ys, i2e, kw=\"nic\", kind=\"in_database\", topk=True):\n",
    "    spec = ds[i]\n",
    "    if topk:\n",
    "        missing_ind = np.argsort(spec.peaks.intensities)[::-1][k:]\n",
    "        missing_mz = spec.peaks.mz[missing_ind]\n",
    "    else:\n",
    "        missing_mz = []\n",
    "    if topk:\n",
    "        k = k-1\n",
    "    pred = preds[k][i]\n",
    "    y = ys[k][i]\n",
    "    if y is None or pred is None:\n",
    "        print(\"not enough peaks\")\n",
    "        return\n",
    "   \n",
    "    if topk:\n",
    "        pred = ids_to_mz(pred, i2e)\n",
    "        y = ids_to_mz(y, i2e)\n",
    "    \n",
    "    TP = set(y).intersection(pred)\n",
    "    FN = set(y).difference(pred)\n",
    "    FP = set(pred).difference(y)\n",
    "    \n",
    "    plot_spectrum_sample_prediction(spec, missing_mz=missing_mz, TP_mz=TP, FN_mz=FN, FP_mz=FP,\\\n",
    "                                    max_mz=1001, \\\n",
    "                                    save_to_path=f\"figures/{kind}/treecol/{kw}-{i}-{k}.pdf\")"
   ]
  },
  {
   "cell_type": "code",
   "execution_count": 40,
   "metadata": {},
   "outputs": [
    {
     "name": "stdout",
     "output_type": "stream",
     "text": [
      "25\n",
      "25\n",
      "25\n"
     ]
    },
    {
     "data": {
      "image/png": "[encoded data removed]",
      "text/plain": [
       "<Figure size 648x216 with 1 Axes>"
      ]
     },
     "metadata": {
      "needs_background": "light"
     },
     "output_type": "display_data"
    }
   ],
   "source": [
    "plot_beauty(datasets_indb[\"spec_test\"], 17965, 5, preds, ys, i2e)"
   ]
  },
  {
   "cell_type": "code",
   "execution_count": 41,
   "metadata": {},
   "outputs": [
    {
     "name": "stdout",
     "output_type": "stream",
     "text": [
      "50\n",
      "50\n",
      "50\n"
     ]
    },
    {
     "data": {
      "image/png": "[encoded data removed]",
      "text/plain": [
       "<Figure size 648x216 with 1 Axes>"
      ]
     },
     "metadata": {
      "needs_background": "light"
     },
     "output_type": "display_data"
    }
   ],
   "source": [
    "plot_beauty(datasets_indb[\"spec_test\"], 13766, 4, preds, ys, i2e)"
   ]
  },
  {
   "cell_type": "code",
   "execution_count": 42,
   "metadata": {},
   "outputs": [
    {
     "name": "stdout",
     "output_type": "stream",
     "text": [
      "mlp_2_.3\n"
     ]
    },
    {
     "name": "stderr",
     "output_type": "stream",
     "text": [
      "/auto/brno6/home/xstary1/raims/metrics.py:232: RuntimeWarning: Mean of empty slice\n",
      "  \"mr\": np.nanmean(recs_some, axis=1),\n",
      "/auto/brno6/home/xstary1/raims/metrics.py:234: RuntimeWarning: Mean of empty slice\n",
      "  \"mf1\": np.nanmean(f1_some, axis=1),\n",
      "/auto/brno6/home/xstary1/raims/metrics.py:235: RuntimeWarning: Mean of empty slice\n",
      "  \"mps\": np.nanmean(precs_m, axis=1)\n"
     ]
    }
   ],
   "source": [
    "i2e = w2v_indb.wv.index2entity\n",
    "_, scores_mlp = model_selection_random(\"predictions/in_database\", \"fixed_test\", kw=\"mlp_2\", return_details=True)"
   ]
  },
  {
   "cell_type": "code",
   "execution_count": 43,
   "metadata": {},
   "outputs": [],
   "source": [
    "preds, ys = scores_mlp[\"mlp_2_.3\"][\"all\"].values()"
   ]
  },
  {
   "cell_type": "code",
   "execution_count": 44,
   "metadata": {},
   "outputs": [
    {
     "name": "stdout",
     "output_type": "stream",
     "text": [
      "10\n",
      "10\n",
      "10\n"
     ]
    },
    {
     "data": {
      "image/png": "[encoded data removed]",
      "text/plain": [
       "<Figure size 648x216 with 1 Axes>"
      ]
     },
     "metadata": {
      "needs_background": "light"
     },
     "output_type": "display_data"
    }
   ],
   "source": [
    "plot_beauty(datasets_indb[\"fixed_test\"].spectrums, 13766, 10, preds, ys, i2e, kind=\"in_database\", kw=\"mlp\", topk=False)"
   ]
  },
  {
   "cell_type": "code",
   "execution_count": 46,
   "metadata": {},
   "outputs": [
    {
     "name": "stdout",
     "output_type": "stream",
     "text": [
      "10\n",
      "10\n",
      "10\n"
     ]
    },
    {
     "data": {
      "image/png": "[encoded data removed]",
      "text/plain": [
       "<Figure size 648x216 with 1 Axes>"
      ]
     },
     "metadata": {
      "needs_background": "light"
     },
     "output_type": "display_data"
    }
   ],
   "source": [
    "plot_beauty(datasets_indb[\"fixed_test\"].spectrums, 13766, 5, preds, ys, i2e, kind=\"in_database\", kw=\"mlp\", topk=False)"
   ]
  },
  {
   "cell_type": "code",
   "execution_count": 45,
   "metadata": {},
   "outputs": [
    {
     "name": "stdout",
     "output_type": "stream",
     "text": [
      "15\n",
      "15\n",
      "15\n"
     ]
    },
    {
     "data": {
      "image/png": "[encoded data removed]",
      "text/plain": [
       "<Figure size 648x216 with 1 Axes>"
      ]
     },
     "metadata": {
      "needs_background": "light"
     },
     "output_type": "display_data"
    }
   ],
   "source": [
    "plot_beauty(datasets_indb[\"fixed_test\"].spectrums, 14046, 8, preds, ys, i2e, kind=\"in_database\", kw=\"mlp\", topk=False)"
   ]
  },
  {
   "cell_type": "code",
   "execution_count": 47,
   "metadata": {},
   "outputs": [
    {
     "name": "stdout",
     "output_type": "stream",
     "text": [
      "30\n",
      "30\n",
      "30\n"
     ]
    },
    {
     "data": {
      "image/png": "[encoded data removed]",
      "text/plain": [
       "<Figure size 648x216 with 1 Axes>"
      ]
     },
     "metadata": {
      "needs_background": "light"
     },
     "output_type": "display_data"
    }
   ],
   "source": [
    "plot_beauty(datasets_indb[\"fixed_test\"].spectrums, 14046, 5, preds, ys, i2e, kind=\"in_database\", kw=\"mlp\", topk=False)"
   ]
  },
  {
   "cell_type": "markdown",
   "metadata": {},
   "source": [
    "## De novo\n"
   ]
  },
  {
   "cell_type": "code",
   "execution_count": 48,
   "metadata": {},
   "outputs": [
    {
     "name": "stdout",
     "output_type": "stream",
     "text": [
      "gpt2_h6l6_auto\n",
      "Possible k up to 30, predict up to 20 peaks\n",
      "Selected up to k=30, l=4, j=6\n",
      "Selected up to k=30, l=None, to_rel_inten=0.2\n",
      "skipped spectrum - unknown peak\n",
      "[25764 27550 27864 27892 27905 27907 27906 27901 27906 27850 27804 27770\n",
      " 27718 27634 27545 27493 27413 27326 27245 27163 27066 26955 26857 26746\n",
      " 26611 26501 26363 26237 26100 25960]\n"
     ]
    }
   ],
   "source": [
    "i2e = w2v_dn.wv.index2entity\n",
    "_, scores_gpt = model_selection(\"predictions/de_novo\", \"hugg_test\", kw=\"gpt2_h6l6_auto\", up_to_k=30, \\\n",
    "                                      l=4, j=6, to_rel_inten=.2, l_rel=None, return_details=True)"
   ]
  },
  {
   "cell_type": "code",
   "execution_count": 49,
   "metadata": {},
   "outputs": [],
   "source": [
    "preds, ys = scores_gpt[\"gpt2_h6l6_auto\"][\"dets\"][\"all\"].values()"
   ]
  },
  {
   "cell_type": "code",
   "execution_count": 54,
   "metadata": {},
   "outputs": [
    {
     "name": "stdout",
     "output_type": "stream",
     "text": [
      "50\n",
      "50\n",
      "50\n"
     ]
    },
    {
     "data": {
      "image/png": "[encoded data removed]",
      "text/plain": [
       "<Figure size 648x216 with 1 Axes>"
      ]
     },
     "metadata": {
      "needs_background": "light"
     },
     "output_type": "display_data"
    }
   ],
   "source": [
    "plot_beauty(datasets_denovo[\"spec_test\"], 22464, 6, preds, ys, i2e, kind=\"de_novo\", topk=True)"
   ]
  },
  {
   "cell_type": "code",
   "execution_count": 55,
   "metadata": {},
   "outputs": [
    {
     "name": "stdout",
     "output_type": "stream",
     "text": [
      "45\n",
      "45\n",
      "45\n"
     ]
    },
    {
     "data": {
      "image/png": "[encoded data removed]",
      "text/plain": [
       "<Figure size 648x216 with 1 Axes>"
      ]
     },
     "metadata": {
      "needs_background": "light"
     },
     "output_type": "display_data"
    }
   ],
   "source": [
    "plot_beauty(datasets_denovo[\"spec_test\"], 27347, 4, preds, ys, i2e, kind=\"de_novo\", topk=True)"
   ]
  },
  {
   "cell_type": "code",
   "execution_count": 56,
   "metadata": {},
   "outputs": [
    {
     "name": "stdout",
     "output_type": "stream",
     "text": [
      "mlp_3_.3\n"
     ]
    },
    {
     "name": "stderr",
     "output_type": "stream",
     "text": [
      "/auto/brno6/home/xstary1/raims/metrics.py:232: RuntimeWarning: Mean of empty slice\n",
      "  \"mr\": np.nanmean(recs_some, axis=1),\n",
      "/auto/brno6/home/xstary1/raims/metrics.py:234: RuntimeWarning: Mean of empty slice\n",
      "  \"mf1\": np.nanmean(f1_some, axis=1),\n",
      "/auto/brno6/home/xstary1/raims/metrics.py:235: RuntimeWarning: Mean of empty slice\n",
      "  \"mps\": np.nanmean(precs_m, axis=1)\n"
     ]
    }
   ],
   "source": [
    "i2e = w2v_dn.wv.index2entity\n",
    "_, scores_mlp = model_selection_random(\"predictions/de_novo\", \"fixed_test\", kw=\"mlp\", return_details=True)"
   ]
  },
  {
   "cell_type": "code",
   "execution_count": 57,
   "metadata": {},
   "outputs": [],
   "source": [
    "preds, ys = scores_mlp[\"mlp_3_.3\"][\"all\"].values()"
   ]
  },
  {
   "cell_type": "code",
   "execution_count": null,
   "metadata": {},
   "outputs": [
    {
     "name": "stdout",
     "output_type": "stream",
     "text": [
      "10\n",
      "10\n",
      "10\n"
     ]
    }
   ],
   "source": [
    "plot_beauty(datasets_denovo[\"fixed_test\"].spectrums, 23073, 4, preds, ys, i2e, kind=\"de_novo\", kw=\"mlp\", topk=False)"
   ]
  },
  {
   "cell_type": "markdown",
   "metadata": {},
   "source": [
    "# Plot example spectra"
   ]
  },
  {
   "cell_type": "code",
   "execution_count": 55,
   "metadata": {},
   "outputs": [],
   "source": [
    "from visual_utils import plot_spectrum_sample, plot_spectrum_sample_missing, plot_spectrum_sample_prediction, plot_spectrum_sample_metric"
   ]
  },
  {
   "cell_type": "code",
   "execution_count": 20,
   "metadata": {},
   "outputs": [
    {
     "data": {
      "text/plain": [
       "array([57, 54, 39, 45, 26, 40, 41, 16, 20, 52, 30, 58, 56, 51, 50, 35, 23,\n",
       "       12, 55, 48, 22,  2, 33, 13, 17, 53,  1, 36, 24,  8, 18, 28, 37, 11,\n",
       "       60, 25, 42, 46, 32, 49,  7, 27,  4, 38, 14, 10, 21,  6, 44,  5, 47,\n",
       "        0, 31, 19, 43, 15,  9, 29, 34,  3, 59])"
      ]
     },
     "execution_count": 20,
     "metadata": {},
     "output_type": "execute_result"
    }
   ],
   "source": [
    "datasets_indb[\"spec_test\"][13766].peaks.intensities\n",
    "np.argsort(datasets_indb[\"spec_test\"][13766].peaks.intensities)[::-1]"
   ]
  },
  {
   "cell_type": "code",
   "execution_count": 65,
   "metadata": {},
   "outputs": [
    {
     "data": {
      "image/png": "[encoded data removed]",
      "text/plain": [
       "<Figure size 648x216 with 1 Axes>"
      ]
     },
     "metadata": {
      "needs_background": "light"
     },
     "output_type": "display_data"
    }
   ],
   "source": [
    "plot_spectrum_sample(datasets_indb[\"spec_test\"][13766], max_mz=1001, save_to_path=\"figures/carbofuran.pdf\")"
   ]
  },
  {
   "cell_type": "code",
   "execution_count": 45,
   "metadata": {},
   "outputs": [
    {
     "data": {
      "image/png": "[encoded data removed]",
      "text/plain": [
       "<Figure size 648x216 with 1 Axes>"
      ]
     },
     "metadata": {
      "needs_background": "light"
     },
     "output_type": "display_data"
    }
   ],
   "source": [
    "k=4\n",
    "missing_ind = np.argsort(datasets_indb[\"spec_test\"][13766].peaks.intensities)[::-1][k:]\n",
    "missing_mz = datasets_indb[\"spec_test\"][13766].peaks.mz[missing_ind]\n",
    "plot_spectrum_sample_missing(datasets_indb[\"spec_test\"][13766], missing_mz, max_mz=1001, save_to_path=\"figures/carbofuran_topk.pdf\")"
   ]
  },
  {
   "cell_type": "code",
   "execution_count": 63,
   "metadata": {},
   "outputs": [
    {
     "data": {
      "image/png": "[encoded data removed]",
      "text/plain": [
       "<Figure size 648x216 with 1 Axes>"
      ]
     },
     "metadata": {
      "needs_background": "light"
     },
     "output_type": "display_data"
    }
   ],
   "source": [
    "plot_spectrum_sample_missing(datasets_indb[\"spec_test\"][13766], np.array([52,91,93,107,115, 149]), max_mz=1001, save_to_path=\"figures/carbofuran_rand.pdf\")"
   ]
  },
  {
   "cell_type": "code",
   "execution_count": 58,
   "metadata": {},
   "outputs": [
    {
     "name": "stdout",
     "output_type": "stream",
     "text": [
      "{65.0, 163.0, 165.0, 135.0, 103.0, 107.0, 123.0, 77.0, 145.0, 146.0, 147.0, 51.0, 117.0, 150.0, 122.0, 91.0, 93.0, 94.0}\n"
     ]
    },
    {
     "data": {
      "image/png": "[encoded data removed]",
      "text/plain": [
       "<Figure size 648x216 with 1 Axes>"
      ]
     },
     "metadata": {
      "needs_background": "light"
     },
     "output_type": "display_data"
    }
   ],
   "source": [
    "k=4\n",
    "missing_ind = np.argsort(datasets_indb[\"spec_test\"][13766].peaks.intensities)[::-1][k:]\n",
    "missing_mz = datasets_indb[\"spec_test\"][13766].peaks.mz[missing_ind]\n",
    "last_int = np.sort(datasets_indb[\"spec_test\"][13766].peaks.intensities)[::-1][k-1]\n",
    "little_ind = np.nonzero(datasets_indb[\"spec_test\"][13766].peaks.intensities <= last_int*0.2)\n",
    "little_mz = datasets_indb[\"spec_test\"][13766].peaks.mz[little_ind]\n",
    "\n",
    "print(set(missing_mz).difference(set(little_mz)))\n",
    "plot_spectrum_sample_metric(datasets_indb[\"spec_test\"][13766], missing_mz=missing_mz, little_mz=little_mz, max_mz=1001, save_to_path=\"figures/carbofuran_topk_metric.pdf\")"
   ]
  },
  {
   "cell_type": "code",
   "execution_count": null,
   "metadata": {},
   "outputs": [
    {
     "name": "stdout",
     "output_type": "stream",
     "text": [
      "{65.0, 163.0, 165.0, 135.0, 103.0, 107.0, 123.0, 77.0, 145.0, 146.0, 147.0, 51.0, 117.0, 150.0, 122.0, 91.0, 93.0, 94.0}\n"
     ]
    },
    {
     "data": {
      "image/png": "[encoded data removed]",
      "text/plain": [
       "<Figure size 648x216 with 1 Axes>"
      ]
     },
     "metadata": {
      "needs_background": "light"
     },
     "output_type": "display_data"
    }
   ],
   "source": [
    "k=4\n",
    "missing_ind = np.argsort(datasets_indb[\"spec_test\"][13766].peaks.intensities)[::-1][k:]\n",
    "missing_mz = datasets_indb[\"spec_test\"][13766].peaks.mz[missing_ind]\n",
    "last_int = np.sort(datasets_indb[\"spec_test\"][13766].peaks.intensities)[::-1][k-1]\n",
    "little_ind = np.nonzero(datasets_indb[\"spec_test\"][13766].peaks.intensities <= last_int*0.2)\n",
    "little_mz = datasets_indb[\"spec_test\"][13766].peaks.mz[little_ind]\n",
    "\n",
    "print(set(missing_mz).difference(set(little_mz)))\n",
    "plot_spectrum_sample_metric(datasets_indb[\"spec_test\"][13766], missing_mz=[91,93,107,115, 149], little_mz=[], max_mz=1001, save_to_path=\"figures/carbofuran_rand_metric.pdf\")"
   ]
  }
 ],
 "metadata": {
  "kernelspec": {
   "display_name": "Python 3",
   "language": "python",
   "name": "python3"
  },
  "language_info": {
   "codemirror_mode": {
    "name": "ipython",
    "version": 3
   },
   "file_extension": ".py",
   "mimetype": "text/x-python",
   "name": "python",
   "nbconvert_exporter": "python",
   "pygments_lexer": "ipython3",
   "version": "3.8.10"
  }
 },
 "nbformat": 4,
 "nbformat_minor": 5
}
